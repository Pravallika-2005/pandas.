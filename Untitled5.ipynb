{
  "nbformat": 4,
  "nbformat_minor": 0,
  "metadata": {
    "colab": {
      "provenance": [],
      "authorship_tag": "ABX9TyMkqbWhboYipiV/p18AQo6l",
      "include_colab_link": true
    },
    "kernelspec": {
      "name": "python3",
      "display_name": "Python 3"
    },
    "language_info": {
      "name": "python"
    }
  },
  "cells": [
    {
      "cell_type": "markdown",
      "metadata": {
        "id": "view-in-github",
        "colab_type": "text"
      },
      "source": [
        "<a href=\"https://colab.research.google.com/github/Pravallika-2005/pandas./blob/main/Untitled5.ipynb\" target=\"_parent\"><img src=\"https://colab.research.google.com/assets/colab-badge.svg\" alt=\"Open In Colab\"/></a>"
      ]
    },
    {
      "cell_type": "code",
      "execution_count": 1,
      "metadata": {
        "id": "nQ1Y_Su5mI7R"
      },
      "outputs": [],
      "source": [
        "import numpy as np\n",
        "lst1=[1,2,3]\n",
        "array1 = np.array(lst1)"
      ]
    },
    {
      "cell_type": "code",
      "source": [
        "type(array1)"
      ],
      "metadata": {
        "colab": {
          "base_uri": "https://localhost:8080/"
        },
        "id": "6_B9rtrZm6HB",
        "outputId": "b2616433-7ff1-4bc0-b6a2-f7f6c8358a67"
      },
      "execution_count": 2,
      "outputs": [
        {
          "output_type": "execute_result",
          "data": {
            "text/plain": [
              "numpy.ndarray"
            ]
          },
          "metadata": {},
          "execution_count": 2
        }
      ]
    },
    {
      "cell_type": "code",
      "source": [
        "type(lst1)"
      ],
      "metadata": {
        "colab": {
          "base_uri": "https://localhost:8080/"
        },
        "id": "cNnSSZtTnK4Q",
        "outputId": "f6bc9dbf-025d-4adb-f610-30b07fc8cedc"
      },
      "execution_count": 3,
      "outputs": [
        {
          "output_type": "execute_result",
          "data": {
            "text/plain": [
              "list"
            ]
          },
          "metadata": {},
          "execution_count": 3
        }
      ]
    },
    {
      "cell_type": "code",
      "source": [
        "lst2 = lst1 + lst1\n",
        "print(lst2)\n",
        "array2 = array1 + array1\n",
        "print(array2)"
      ],
      "metadata": {
        "colab": {
          "base_uri": "https://localhost:8080/"
        },
        "id": "tJHr563anRSo",
        "outputId": "d1c161a1-7913-48a6-bb7d-12663ca21c5e"
      },
      "execution_count": 4,
      "outputs": [
        {
          "output_type": "stream",
          "name": "stdout",
          "text": [
            "[1, 2, 3, 1, 2, 3]\n",
            "[2 4 6]\n"
          ]
        }
      ]
    },
    {
      "cell_type": "code",
      "source": [
        "print(\"array1 multiplied by array1: \",array1*array1)\n",
        "print(\"array1 divided by array1: \",array1/array1)\n",
        "print(\"array1 raised to the power of array1: \",array1**array1)"
      ],
      "metadata": {
        "colab": {
          "base_uri": "https://localhost:8080/"
        },
        "id": "WFl_9gJfnS93",
        "outputId": "9047f45c-c6f8-4db4-b226-24846e0825a4"
      },
      "execution_count": 5,
      "outputs": [
        {
          "output_type": "stream",
          "name": "stdout",
          "text": [
            "array1 multiplied by array1:  [1 4 9]\n",
            "array1 divided by array1:  [1. 1. 1.]\n",
            "array1 raised to the power of array1:  [ 1  4 27]\n"
          ]
        }
      ]
    },
    {
      "cell_type": "code",
      "source": [
        "lst_5=[i for i in range(1,6)]\n",
        "print(lst_5)\n",
        "array_5=np.array(lst_5)\n",
        "# sine function\n",
        "print(\"Sine: \",np.sin(array_5))\n",
        "# logarithm\n",
        "print(\"Natural logarithm: \",np.log(array_5))\n",
        "print(\"Base-10 logarithm: \",np.log10(array_5))\n",
        "print(\"Base-2 logarithm: \",np.log2(array_5))\n",
        "# Exponential\n",
        "print(\"Exponential: \",np.exp(array_5))"
      ],
      "metadata": {
        "colab": {
          "base_uri": "https://localhost:8080/"
        },
        "id": "ADuQiYZUnyDR",
        "outputId": "2ae742ea-37b9-4444-8c41-a6fbec550f42"
      },
      "execution_count": 6,
      "outputs": [
        {
          "output_type": "stream",
          "name": "stdout",
          "text": [
            "[1, 2, 3, 4, 5]\n",
            "Sine:  [ 0.84147098  0.90929743  0.14112001 -0.7568025  -0.95892427]\n",
            "Natural logarithm:  [0.         0.69314718 1.09861229 1.38629436 1.60943791]\n",
            "Base-10 logarithm:  [0.         0.30103    0.47712125 0.60205999 0.69897   ]\n",
            "Base-2 logarithm:  [0.         1.         1.5849625  2.         2.32192809]\n",
            "Exponential:  [  2.71828183   7.3890561   20.08553692  54.59815003 148.4131591 ]\n"
          ]
        }
      ]
    },
    {
      "cell_type": "code",
      "source": [
        "print(\"A series of numbers:\",np.arange(5,16))\n",
        "print(\"Numbers spaced apart by 2:\",np.arange(0,11,2))\n",
        "print(\"Numbers spaced apart by float:\",np.arange(0,11,2.5))\n",
        "print(\"Every 5th number from 30 in reverse order: \",np.arange(30,-1,-5))\n",
        "print(\"11 linearly spaced numbers between 1 and 5: \",np.linspace(1,5,11))"
      ],
      "metadata": {
        "colab": {
          "base_uri": "https://localhost:8080/"
        },
        "id": "ZaQSMlg2oORI",
        "outputId": "3d3fc9f5-d405-4a18-a870-24ca29df2025"
      },
      "execution_count": 7,
      "outputs": [
        {
          "output_type": "stream",
          "name": "stdout",
          "text": [
            "A series of numbers: [ 5  6  7  8  9 10 11 12 13 14 15]\n",
            "Numbers spaced apart by 2: [ 0  2  4  6  8 10]\n",
            "Numbers spaced apart by float: [ 0.   2.5  5.   7.5 10. ]\n",
            "Every 5th number from 30 in reverse order:  [30 25 20 15 10  5  0]\n",
            "11 linearly spaced numbers between 1 and 5:  [1.  1.4 1.8 2.2 2.6 3.  3.4 3.8 4.2 4.6 5. ]\n"
          ]
        }
      ]
    },
    {
      "cell_type": "code",
      "source": [
        "list_2D = [[1,2,3],[4,5,6],[7,8,9]]\n",
        "mat1 = np.array(list_2D)\n",
        "print(\"Type/Class of this object:\",type(mat1))\n",
        "print(\"Here is the matrix\\n----------\\n\",mat1,\"\\n----------\")"
      ],
      "metadata": {
        "colab": {
          "base_uri": "https://localhost:8080/"
        },
        "id": "jz5awAQjoW5p",
        "outputId": "8ecfd0d2-c0ee-4094-939b-976bb3be0565"
      },
      "execution_count": 8,
      "outputs": [
        {
          "output_type": "stream",
          "name": "stdout",
          "text": [
            "Type/Class of this object: <class 'numpy.ndarray'>\n",
            "Here is the matrix\n",
            "----------\n",
            " [[1 2 3]\n",
            " [4 5 6]\n",
            " [7 8 9]] \n",
            "----------\n"
          ]
        }
      ]
    },
    {
      "cell_type": "code",
      "source": [
        "tuple_2D = np.array([(1.5,2,3), (4,5,6)])\n",
        "mat_tuple = np.array(tuple_2D)\n",
        "print (mat_tuple)"
      ],
      "metadata": {
        "colab": {
          "base_uri": "https://localhost:8080/"
        },
        "id": "8xjARhQ0oZ2p",
        "outputId": "01e6dba0-bf67-48a9-c465-59ce9c91645c"
      },
      "execution_count": 9,
      "outputs": [
        {
          "output_type": "stream",
          "name": "stdout",
          "text": [
            "[[1.5 2.  3. ]\n",
            " [4.  5.  6. ]]\n"
          ]
        }
      ]
    },
    {
      "cell_type": "code",
      "source": [
        "print(\"Dimension of this matrix: \",mat1.ndim,sep='')\n",
        "print(\"Size of this matrix: \", mat1.size,sep='')\n",
        "print(\"Shape of this matrix: \", mat1.shape,sep='')\n",
        "print(\"Data type of this matrix: \", mat1.dtype,sep='')"
      ],
      "metadata": {
        "colab": {
          "base_uri": "https://localhost:8080/"
        },
        "id": "R7Ryvapuof_Z",
        "outputId": "afb8a82e-2132-4311-d523-67321d5f4621"
      },
      "execution_count": 10,
      "outputs": [
        {
          "output_type": "stream",
          "name": "stdout",
          "text": [
            "Dimension of this matrix: 2\n",
            "Size of this matrix: 9\n",
            "Shape of this matrix: (3, 3)\n",
            "Data type of this matrix: int64\n"
          ]
        }
      ]
    },
    {
      "cell_type": "code",
      "source": [
        "print(\"Vector of zeros: \",np.zeros(5))\n",
        "print(\"Matrix of zeros: \",np.zeros((3,4)))\n",
        "print(\"Vector of ones: \",np.ones(4))\n",
        "print(\"Matrix of ones: \",np.ones((4,2)))\n",
        "print(\"Matrix of 5’s: \",5*np.ones((3,3)))\n",
        "print(\"Identity matrix of dimension 2:\",np.eye(2))\n",
        "print(\"Identity matrix of dimension 4:\",np.eye(4))\n",
        "print(\"Random matrix of shape (4,3):\\n\",np.random.randint(low=1,high=10,size=(4,3)))"
      ],
      "metadata": {
        "colab": {
          "base_uri": "https://localhost:8080/"
        },
        "id": "2gxsj7pYomcZ",
        "outputId": "5a868455-c868-40ed-f58e-9b7a467b60e6"
      },
      "execution_count": 11,
      "outputs": [
        {
          "output_type": "stream",
          "name": "stdout",
          "text": [
            "Vector of zeros:  [0. 0. 0. 0. 0.]\n",
            "Matrix of zeros:  [[0. 0. 0. 0.]\n",
            " [0. 0. 0. 0.]\n",
            " [0. 0. 0. 0.]]\n",
            "Vector of ones:  [1. 1. 1. 1.]\n",
            "Matrix of ones:  [[1. 1.]\n",
            " [1. 1.]\n",
            " [1. 1.]\n",
            " [1. 1.]]\n",
            "Matrix of 5’s:  [[5. 5. 5.]\n",
            " [5. 5. 5.]\n",
            " [5. 5. 5.]]\n",
            "Identity matrix of dimension 2: [[1. 0.]\n",
            " [0. 1.]]\n",
            "Identity matrix of dimension 4: [[1. 0. 0. 0.]\n",
            " [0. 1. 0. 0.]\n",
            " [0. 0. 1. 0.]\n",
            " [0. 0. 0. 1.]]\n",
            "Random matrix of shape (4,3):\n",
            " [[8 7 5]\n",
            " [2 4 7]\n",
            " [6 9 3]\n",
            " [9 4 8]]\n"
          ]
        }
      ]
    },
    {
      "cell_type": "code",
      "source": [
        "a = np.random.randint(1,100,30)\n",
        "b = a.reshape(2,3,5)\n",
        "c = a.reshape(6,5)\n",
        "print (\"Shape of a:\", a.shape)\n",
        "print (\"Shape of b:\", b.shape)\n",
        "print (\"Shape of c:\", c.shape)"
      ],
      "metadata": {
        "colab": {
          "base_uri": "https://localhost:8080/"
        },
        "id": "4eJ1UeirouOp",
        "outputId": "28218848-f114-4e3e-c578-495630b55371"
      },
      "execution_count": 12,
      "outputs": [
        {
          "output_type": "stream",
          "name": "stdout",
          "text": [
            "Shape of a: (30,)\n",
            "Shape of b: (2, 3, 5)\n",
            "Shape of c: (6, 5)\n"
          ]
        }
      ]
    },
    {
      "cell_type": "code",
      "source": [
        "print(\"\\na looks like\\n\",a)\n",
        "print(\"\\nb looks like\\n\",b)\n",
        "print(\"\\nc looks like\\n\",c)\n"
      ],
      "metadata": {
        "colab": {
          "base_uri": "https://localhost:8080/"
        },
        "id": "Ad5Kb6lwoyzX",
        "outputId": "a7106768-9a54-4a0e-9227-1981c1a4421d"
      },
      "execution_count": 13,
      "outputs": [
        {
          "output_type": "stream",
          "name": "stdout",
          "text": [
            "\n",
            "a looks like\n",
            " [59 24 15 99 58 37 49 98 66 48 77 75 74 36 80 55 25 88 55  7 85 67 66 53\n",
            " 75 66 96 13 59 45]\n",
            "\n",
            "b looks like\n",
            " [[[59 24 15 99 58]\n",
            "  [37 49 98 66 48]\n",
            "  [77 75 74 36 80]]\n",
            "\n",
            " [[55 25 88 55  7]\n",
            "  [85 67 66 53 75]\n",
            "  [66 96 13 59 45]]]\n",
            "\n",
            "c looks like\n",
            " [[59 24 15 99 58]\n",
            " [37 49 98 66 48]\n",
            " [77 75 74 36 80]\n",
            " [55 25 88 55  7]\n",
            " [85 67 66 53 75]\n",
            " [66 96 13 59 45]]\n"
          ]
        }
      ]
    },
    {
      "cell_type": "code",
      "source": [
        "b_flat = b.ravel()\n",
        "print(b_flat)"
      ],
      "metadata": {
        "colab": {
          "base_uri": "https://localhost:8080/"
        },
        "id": "T0oFwq96o3D9",
        "outputId": "93a32d15-4f13-40c2-fa80-06597a3d1d58"
      },
      "execution_count": 14,
      "outputs": [
        {
          "output_type": "stream",
          "name": "stdout",
          "text": [
            "[59 24 15 99 58 37 49 98 66 48 77 75 74 36 80 55 25 88 55  7 85 67 66 53\n",
            " 75 66 96 13 59 45]\n"
          ]
        }
      ]
    },
    {
      "cell_type": "code",
      "source": [
        "arr = np.arange(0,11)\n",
        "print(\"Array:\",arr)\n",
        "print(\"Element at 7th index is:\", arr[7])\n",
        "print(\"Elements from 3rd to 5th index are:\", arr[3:6])\n",
        "print(\"Elements up to 4th index are:\", arr[:4])\n",
        "print(\"Elements from last backwards are:\", arr[-1::-1])\n",
        "print(\"3 Elements from last backwards are:\", arr[-1:-6:-2])\n",
        "\n",
        "arr2 = np.arange(0,21,2)\n",
        "print(\"New array:\",arr2)\n",
        "print(\"Elements at 2nd, 4th, and 9th index are:\", arr2[[2,4,9]]) # Pass a list as a index to subset"
      ],
      "metadata": {
        "colab": {
          "base_uri": "https://localhost:8080/"
        },
        "id": "DNW9b2pVpFFX",
        "outputId": "2aefe397-4182-40a3-ac2d-443e1e788c39"
      },
      "execution_count": 15,
      "outputs": [
        {
          "output_type": "stream",
          "name": "stdout",
          "text": [
            "Array: [ 0  1  2  3  4  5  6  7  8  9 10]\n",
            "Element at 7th index is: 7\n",
            "Elements from 3rd to 5th index are: [3 4 5]\n",
            "Elements up to 4th index are: [0 1 2 3]\n",
            "Elements from last backwards are: [10  9  8  7  6  5  4  3  2  1  0]\n",
            "3 Elements from last backwards are: [10  8  6]\n",
            "New array: [ 0  2  4  6  8 10 12 14 16 18 20]\n",
            "Elements at 2nd, 4th, and 9th index are: [ 4  8 18]\n"
          ]
        }
      ]
    },
    {
      "cell_type": "code",
      "source": [
        "mat = np.random.randint(10,100,15).reshape(3,5)\n",
        "print(\"Matrix of random 2-digit numbers\\n\",mat)\n",
        "\n",
        "print(\"\\nDouble bracket indexing\\n\")\n",
        "print(\"Element in row index 1 and column index 2:\", mat[1][2])\n",
        "\n",
        "print(\"\\nSingle bracket with comma indexing\\n\")\n",
        "print(\"Element in row index 1 and column index 2:\", mat[1,2])\n",
        "print(\"\\nRow or column extract\\n\")\n",
        "\n",
        "print(\"Entire row at index 2:\", mat[2])\n",
        "print(\"Entire column at index 3:\", mat[:,3])\n",
        "\n",
        "print(\"\\nSubsetting sub-matrices\\n\")\n",
        "print(\"Matrix with row indices 1 and 2 and column indices 3 and 4\\n\", mat[1:3,3:5])\n",
        "print(\"Matrix with row indices 0 and 1 and column indices 1 and 3\\n\", mat[0:2,[1,3]])"
      ],
      "metadata": {
        "colab": {
          "base_uri": "https://localhost:8080/"
        },
        "id": "HHrFX1pjpG4J",
        "outputId": "684930aa-035e-4e6e-ce7e-58988d7c24db"
      },
      "execution_count": 16,
      "outputs": [
        {
          "output_type": "stream",
          "name": "stdout",
          "text": [
            "Matrix of random 2-digit numbers\n",
            " [[88 30 73 54 91]\n",
            " [59 39 54 30 96]\n",
            " [62 94 57 51 74]]\n",
            "\n",
            "Double bracket indexing\n",
            "\n",
            "Element in row index 1 and column index 2: 54\n",
            "\n",
            "Single bracket with comma indexing\n",
            "\n",
            "Element in row index 1 and column index 2: 54\n",
            "\n",
            "Row or column extract\n",
            "\n",
            "Entire row at index 2: [62 94 57 51 74]\n",
            "Entire column at index 3: [54 30 51]\n",
            "\n",
            "Subsetting sub-matrices\n",
            "\n",
            "Matrix with row indices 1 and 2 and column indices 3 and 4\n",
            " [[30 96]\n",
            " [51 74]]\n",
            "Matrix with row indices 0 and 1 and column indices 1 and 3\n",
            " [[30 54]\n",
            " [39 30]]\n"
          ]
        }
      ]
    },
    {
      "cell_type": "code",
      "source": [
        "mat = np.random.randint(10,100,15).reshape(3,5)\n",
        "print(\"Matrix of random 2-digit numbers\\n\",mat)\n",
        "print (\"\\nElements greater than 50\\n\", mat[mat>50])"
      ],
      "metadata": {
        "colab": {
          "base_uri": "https://localhost:8080/"
        },
        "id": "VfLbYVZ3pLtv",
        "outputId": "82a22de8-e31f-4f23-922d-5190bcc2a622"
      },
      "execution_count": 17,
      "outputs": [
        {
          "output_type": "stream",
          "name": "stdout",
          "text": [
            "Matrix of random 2-digit numbers\n",
            " [[39 40 90 63 33]\n",
            " [35 80 63 68 82]\n",
            " [13 99 39 12 43]]\n",
            "\n",
            "Elements greater than 50\n",
            " [90 63 80 63 68 82 99]\n"
          ]
        }
      ]
    },
    {
      "cell_type": "code",
      "source": [
        "mat1 = np.random.randint(1,10,9).reshape(3,3)\n",
        "mat2 = np.random.randint(1,10,9).reshape(3,3)\n",
        "print(\"\\n1st Matrix of random single-digit numbers\\n\",mat1)\n",
        "print(\"\\n2nd Matrix of random single-digit numbers\\n\",mat2)\n",
        "\n",
        "print(\"\\nAddition\\n\", mat1+mat2)\n",
        "print(\"\\nMultiplication\\n\", mat1*mat2)\n",
        "print(\"\\nDivision\\n\", mat1/mat2)\n",
        "print(\"\\nLineaer combination: 3*A - 2*B\\n\", 3*mat1-2*mat2)\n",
        "\n",
        "print(\"\\nAddition of a scalar (100)\\n\", 100+mat1)\n",
        "\n",
        "print(\"\\nExponentiation, matrix cubed here\\n\", mat1**3)\n",
        "print(\"\\nExponentiation, sq-root using pow function\\n\",pow(mat1,0.5))"
      ],
      "metadata": {
        "colab": {
          "base_uri": "https://localhost:8080/"
        },
        "id": "coiyoWAwpTVi",
        "outputId": "4bf29957-7808-4cd1-aac5-aab61d00eb5b"
      },
      "execution_count": 18,
      "outputs": [
        {
          "output_type": "stream",
          "name": "stdout",
          "text": [
            "\n",
            "1st Matrix of random single-digit numbers\n",
            " [[7 6 6]\n",
            " [8 9 9]\n",
            " [8 9 9]]\n",
            "\n",
            "2nd Matrix of random single-digit numbers\n",
            " [[6 2 2]\n",
            " [4 4 7]\n",
            " [3 6 2]]\n",
            "\n",
            "Addition\n",
            " [[13  8  8]\n",
            " [12 13 16]\n",
            " [11 15 11]]\n",
            "\n",
            "Multiplication\n",
            " [[42 12 12]\n",
            " [32 36 63]\n",
            " [24 54 18]]\n",
            "\n",
            "Division\n",
            " [[1.16666667 3.         3.        ]\n",
            " [2.         2.25       1.28571429]\n",
            " [2.66666667 1.5        4.5       ]]\n",
            "\n",
            "Lineaer combination: 3*A - 2*B\n",
            " [[ 9 14 14]\n",
            " [16 19 13]\n",
            " [18 15 23]]\n",
            "\n",
            "Addition of a scalar (100)\n",
            " [[107 106 106]\n",
            " [108 109 109]\n",
            " [108 109 109]]\n",
            "\n",
            "Exponentiation, matrix cubed here\n",
            " [[343 216 216]\n",
            " [512 729 729]\n",
            " [512 729 729]]\n",
            "\n",
            "Exponentiation, sq-root using pow function\n",
            " [[2.64575131 2.44948974 2.44948974]\n",
            " [2.82842712 3.         3.        ]\n",
            " [2.82842712 3.         3.        ]]\n"
          ]
        }
      ]
    },
    {
      "cell_type": "code",
      "source": [
        "s2=pd.Series(data=my_data, index=labels)\n",
        "print(s2)"
      ],
      "metadata": {
        "colab": {
          "base_uri": "https://localhost:8080/"
        },
        "id": "0rXHR8T9pvxJ",
        "outputId": "45f9b001-a292-4c22-8a07-304a37c1df65"
      },
      "execution_count": 22,
      "outputs": [
        {
          "output_type": "stream",
          "name": "stdout",
          "text": [
            "a    10\n",
            "b    20\n",
            "c    30\n",
            "dtype: int64\n"
          ]
        }
      ]
    },
    {
      "cell_type": "code",
      "source": [
        "s3=pd.Series(arr, labels)\n",
        "print(s3)"
      ],
      "metadata": {
        "colab": {
          "base_uri": "https://localhost:8080/"
        },
        "id": "No-cmstUp1d6",
        "outputId": "393bf5c9-a55d-472d-90ef-c75e4eb45493"
      },
      "execution_count": 23,
      "outputs": [
        {
          "output_type": "stream",
          "name": "stdout",
          "text": [
            "a    10\n",
            "b    20\n",
            "c    30\n",
            "dtype: int64\n"
          ]
        }
      ]
    },
    {
      "cell_type": "code",
      "source": [
        "s4=pd.Series(d)\n",
        "print(s4)"
      ],
      "metadata": {
        "colab": {
          "base_uri": "https://localhost:8080/"
        },
        "id": "QgTaHO0Yp5Tg",
        "outputId": "df9e72ad-97c7-4995-a85a-8fd7d16395a5"
      },
      "execution_count": 24,
      "outputs": [
        {
          "output_type": "stream",
          "name": "stdout",
          "text": [
            "a    10\n",
            "b    20\n",
            "c    30\n",
            "dtype: int64\n"
          ]
        }
      ]
    },
    {
      "cell_type": "code",
      "source": [
        "print (\"\\nHolding numerical data\\n\",'-'*25, sep='')\n",
        "print(pd.Series(arr))\n",
        "print (\"\\nHolding text labels\\n\",'-'*20, sep='')\n",
        "print(pd.Series(labels))\n",
        "print (\"\\nHolding functions\\n\",'-'*20, sep='')\n",
        "print(pd.Series(data=[sum,print,len]))\n",
        "print (\"\\nHolding objects from a dictionary\\n\",'-'*40, sep='')\n",
        "print(pd.Series(data=[d.keys, d.items, d.values]))"
      ],
      "metadata": {
        "colab": {
          "base_uri": "https://localhost:8080/"
        },
        "id": "p7HR87d5p8sC",
        "outputId": "198e637e-5845-4f59-d3d6-8f897144e236"
      },
      "execution_count": 25,
      "outputs": [
        {
          "output_type": "stream",
          "name": "stdout",
          "text": [
            "\n",
            "Holding numerical data\n",
            "-------------------------\n",
            "0    10\n",
            "1    20\n",
            "2    30\n",
            "dtype: int64\n",
            "\n",
            "Holding text labels\n",
            "--------------------\n",
            "0    a\n",
            "1    b\n",
            "2    c\n",
            "dtype: object\n",
            "\n",
            "Holding functions\n",
            "--------------------\n",
            "0      <built-in function sum>\n",
            "1    <built-in function print>\n",
            "2      <built-in function len>\n",
            "dtype: object\n",
            "\n",
            "Holding objects from a dictionary\n",
            "----------------------------------------\n",
            "0    <built-in method keys of dict object at 0x7e37...\n",
            "1    <built-in method items of dict object at 0x7e3...\n",
            "2    <built-in method values of dict object at 0x7e...\n",
            "dtype: object\n"
          ]
        }
      ]
    },
    {
      "cell_type": "code",
      "source": [
        "matrix_data = np.random.randint(1,10,size=20).reshape(5,4)\n",
        "row_labels = ['A','B','C','D','E']\n",
        "column_headings = ['W','X','Y','Z']\n",
        "\n",
        "df = pd.DataFrame(data=matrix_data, index=row_labels, columns=column_headings)\n",
        "print(\"\\nThe data frame looks like\\n\",'-'*45, sep='')\n",
        "print(df)"
      ],
      "metadata": {
        "colab": {
          "base_uri": "https://localhost:8080/"
        },
        "id": "VaIxTbjDqB9i",
        "outputId": "0344fe6f-76d3-41d7-bb64-82901cbe18c7"
      },
      "execution_count": 26,
      "outputs": [
        {
          "output_type": "stream",
          "name": "stdout",
          "text": [
            "\n",
            "The data frame looks like\n",
            "---------------------------------------------\n",
            "   W  X  Y  Z\n",
            "A  7  6  6  8\n",
            "B  5  7  1  8\n",
            "C  4  4  4  9\n",
            "D  7  5  8  2\n",
            "E  9  1  5  3\n"
          ]
        }
      ]
    },
    {
      "cell_type": "code",
      "source": [
        "d={'a':[10,20],'b':[30,40],'c':[50,60]}\n",
        "df2=pd.DataFrame(data=d,index=['X','Y'])\n",
        "print(df2)\n"
      ],
      "metadata": {
        "colab": {
          "base_uri": "https://localhost:8080/"
        },
        "id": "rnxl6KQ3qFd3",
        "outputId": "5cea924c-057e-4b1a-a275-89030edc1b4f"
      },
      "execution_count": 27,
      "outputs": [
        {
          "output_type": "stream",
          "name": "stdout",
          "text": [
            "    a   b   c\n",
            "X  10  30  50\n",
            "Y  20  40  60\n"
          ]
        }
      ]
    },
    {
      "cell_type": "code",
      "source": [
        "# 25 rows and 4 columns\n",
        "matrix_data = np.random.randint(1,100,100).reshape(25,4)\n",
        "column_headings = ['W','X','Y','Z']\n",
        "df = pd.DataFrame(data=matrix_data,columns=column_headings)"
      ],
      "metadata": {
        "id": "3hUSzYtHqIvx"
      },
      "execution_count": 29,
      "outputs": []
    },
    {
      "cell_type": "code",
      "source": [
        "df.head()"
      ],
      "metadata": {
        "colab": {
          "base_uri": "https://localhost:8080/",
          "height": 206
        },
        "id": "KZLZmcdrqQjK",
        "outputId": "7ac13ea0-af79-4e10-a655-d69bae016119"
      },
      "execution_count": 30,
      "outputs": [
        {
          "output_type": "execute_result",
          "data": {
            "text/plain": [
              "    W   X   Y   Z\n",
              "0   7   7  41  55\n",
              "1  16  87  84  46\n",
              "2  27   5  28  52\n",
              "3  53  57  22  40\n",
              "4  84  42  89  77"
            ],
            "text/html": [
              "\n",
              "  <div id=\"df-e879a591-cbeb-43d2-887b-18f8d17341e9\" class=\"colab-df-container\">\n",
              "    <div>\n",
              "<style scoped>\n",
              "    .dataframe tbody tr th:only-of-type {\n",
              "        vertical-align: middle;\n",
              "    }\n",
              "\n",
              "    .dataframe tbody tr th {\n",
              "        vertical-align: top;\n",
              "    }\n",
              "\n",
              "    .dataframe thead th {\n",
              "        text-align: right;\n",
              "    }\n",
              "</style>\n",
              "<table border=\"1\" class=\"dataframe\">\n",
              "  <thead>\n",
              "    <tr style=\"text-align: right;\">\n",
              "      <th></th>\n",
              "      <th>W</th>\n",
              "      <th>X</th>\n",
              "      <th>Y</th>\n",
              "      <th>Z</th>\n",
              "    </tr>\n",
              "  </thead>\n",
              "  <tbody>\n",
              "    <tr>\n",
              "      <th>0</th>\n",
              "      <td>7</td>\n",
              "      <td>7</td>\n",
              "      <td>41</td>\n",
              "      <td>55</td>\n",
              "    </tr>\n",
              "    <tr>\n",
              "      <th>1</th>\n",
              "      <td>16</td>\n",
              "      <td>87</td>\n",
              "      <td>84</td>\n",
              "      <td>46</td>\n",
              "    </tr>\n",
              "    <tr>\n",
              "      <th>2</th>\n",
              "      <td>27</td>\n",
              "      <td>5</td>\n",
              "      <td>28</td>\n",
              "      <td>52</td>\n",
              "    </tr>\n",
              "    <tr>\n",
              "      <th>3</th>\n",
              "      <td>53</td>\n",
              "      <td>57</td>\n",
              "      <td>22</td>\n",
              "      <td>40</td>\n",
              "    </tr>\n",
              "    <tr>\n",
              "      <th>4</th>\n",
              "      <td>84</td>\n",
              "      <td>42</td>\n",
              "      <td>89</td>\n",
              "      <td>77</td>\n",
              "    </tr>\n",
              "  </tbody>\n",
              "</table>\n",
              "</div>\n",
              "    <div class=\"colab-df-buttons\">\n",
              "\n",
              "  <div class=\"colab-df-container\">\n",
              "    <button class=\"colab-df-convert\" onclick=\"convertToInteractive('df-e879a591-cbeb-43d2-887b-18f8d17341e9')\"\n",
              "            title=\"Convert this dataframe to an interactive table.\"\n",
              "            style=\"display:none;\">\n",
              "\n",
              "  <svg xmlns=\"http://www.w3.org/2000/svg\" height=\"24px\" viewBox=\"0 -960 960 960\">\n",
              "    <path d=\"M120-120v-720h720v720H120Zm60-500h600v-160H180v160Zm220 220h160v-160H400v160Zm0 220h160v-160H400v160ZM180-400h160v-160H180v160Zm440 0h160v-160H620v160ZM180-180h160v-160H180v160Zm440 0h160v-160H620v160Z\"/>\n",
              "  </svg>\n",
              "    </button>\n",
              "\n",
              "  <style>\n",
              "    .colab-df-container {\n",
              "      display:flex;\n",
              "      gap: 12px;\n",
              "    }\n",
              "\n",
              "    .colab-df-convert {\n",
              "      background-color: #E8F0FE;\n",
              "      border: none;\n",
              "      border-radius: 50%;\n",
              "      cursor: pointer;\n",
              "      display: none;\n",
              "      fill: #1967D2;\n",
              "      height: 32px;\n",
              "      padding: 0 0 0 0;\n",
              "      width: 32px;\n",
              "    }\n",
              "\n",
              "    .colab-df-convert:hover {\n",
              "      background-color: #E2EBFA;\n",
              "      box-shadow: 0px 1px 2px rgba(60, 64, 67, 0.3), 0px 1px 3px 1px rgba(60, 64, 67, 0.15);\n",
              "      fill: #174EA6;\n",
              "    }\n",
              "\n",
              "    .colab-df-buttons div {\n",
              "      margin-bottom: 4px;\n",
              "    }\n",
              "\n",
              "    [theme=dark] .colab-df-convert {\n",
              "      background-color: #3B4455;\n",
              "      fill: #D2E3FC;\n",
              "    }\n",
              "\n",
              "    [theme=dark] .colab-df-convert:hover {\n",
              "      background-color: #434B5C;\n",
              "      box-shadow: 0px 1px 3px 1px rgba(0, 0, 0, 0.15);\n",
              "      filter: drop-shadow(0px 1px 2px rgba(0, 0, 0, 0.3));\n",
              "      fill: #FFFFFF;\n",
              "    }\n",
              "  </style>\n",
              "\n",
              "    <script>\n",
              "      const buttonEl =\n",
              "        document.querySelector('#df-e879a591-cbeb-43d2-887b-18f8d17341e9 button.colab-df-convert');\n",
              "      buttonEl.style.display =\n",
              "        google.colab.kernel.accessAllowed ? 'block' : 'none';\n",
              "\n",
              "      async function convertToInteractive(key) {\n",
              "        const element = document.querySelector('#df-e879a591-cbeb-43d2-887b-18f8d17341e9');\n",
              "        const dataTable =\n",
              "          await google.colab.kernel.invokeFunction('convertToInteractive',\n",
              "                                                    [key], {});\n",
              "        if (!dataTable) return;\n",
              "\n",
              "        const docLinkHtml = 'Like what you see? Visit the ' +\n",
              "          '<a target=\"_blank\" href=https://colab.research.google.com/notebooks/data_table.ipynb>data table notebook</a>'\n",
              "          + ' to learn more about interactive tables.';\n",
              "        element.innerHTML = '';\n",
              "        dataTable['output_type'] = 'display_data';\n",
              "        await google.colab.output.renderOutput(dataTable, element);\n",
              "        const docLink = document.createElement('div');\n",
              "        docLink.innerHTML = docLinkHtml;\n",
              "        element.appendChild(docLink);\n",
              "      }\n",
              "    </script>\n",
              "  </div>\n",
              "\n",
              "\n",
              "<div id=\"df-a5f1d1ee-79fd-4aa0-af6e-b3b9f992e5c4\">\n",
              "  <button class=\"colab-df-quickchart\" onclick=\"quickchart('df-a5f1d1ee-79fd-4aa0-af6e-b3b9f992e5c4')\"\n",
              "            title=\"Suggest charts\"\n",
              "            style=\"display:none;\">\n",
              "\n",
              "<svg xmlns=\"http://www.w3.org/2000/svg\" height=\"24px\"viewBox=\"0 0 24 24\"\n",
              "     width=\"24px\">\n",
              "    <g>\n",
              "        <path d=\"M19 3H5c-1.1 0-2 .9-2 2v14c0 1.1.9 2 2 2h14c1.1 0 2-.9 2-2V5c0-1.1-.9-2-2-2zM9 17H7v-7h2v7zm4 0h-2V7h2v10zm4 0h-2v-4h2v4z\"/>\n",
              "    </g>\n",
              "</svg>\n",
              "  </button>\n",
              "\n",
              "<style>\n",
              "  .colab-df-quickchart {\n",
              "      --bg-color: #E8F0FE;\n",
              "      --fill-color: #1967D2;\n",
              "      --hover-bg-color: #E2EBFA;\n",
              "      --hover-fill-color: #174EA6;\n",
              "      --disabled-fill-color: #AAA;\n",
              "      --disabled-bg-color: #DDD;\n",
              "  }\n",
              "\n",
              "  [theme=dark] .colab-df-quickchart {\n",
              "      --bg-color: #3B4455;\n",
              "      --fill-color: #D2E3FC;\n",
              "      --hover-bg-color: #434B5C;\n",
              "      --hover-fill-color: #FFFFFF;\n",
              "      --disabled-bg-color: #3B4455;\n",
              "      --disabled-fill-color: #666;\n",
              "  }\n",
              "\n",
              "  .colab-df-quickchart {\n",
              "    background-color: var(--bg-color);\n",
              "    border: none;\n",
              "    border-radius: 50%;\n",
              "    cursor: pointer;\n",
              "    display: none;\n",
              "    fill: var(--fill-color);\n",
              "    height: 32px;\n",
              "    padding: 0;\n",
              "    width: 32px;\n",
              "  }\n",
              "\n",
              "  .colab-df-quickchart:hover {\n",
              "    background-color: var(--hover-bg-color);\n",
              "    box-shadow: 0 1px 2px rgba(60, 64, 67, 0.3), 0 1px 3px 1px rgba(60, 64, 67, 0.15);\n",
              "    fill: var(--button-hover-fill-color);\n",
              "  }\n",
              "\n",
              "  .colab-df-quickchart-complete:disabled,\n",
              "  .colab-df-quickchart-complete:disabled:hover {\n",
              "    background-color: var(--disabled-bg-color);\n",
              "    fill: var(--disabled-fill-color);\n",
              "    box-shadow: none;\n",
              "  }\n",
              "\n",
              "  .colab-df-spinner {\n",
              "    border: 2px solid var(--fill-color);\n",
              "    border-color: transparent;\n",
              "    border-bottom-color: var(--fill-color);\n",
              "    animation:\n",
              "      spin 1s steps(1) infinite;\n",
              "  }\n",
              "\n",
              "  @keyframes spin {\n",
              "    0% {\n",
              "      border-color: transparent;\n",
              "      border-bottom-color: var(--fill-color);\n",
              "      border-left-color: var(--fill-color);\n",
              "    }\n",
              "    20% {\n",
              "      border-color: transparent;\n",
              "      border-left-color: var(--fill-color);\n",
              "      border-top-color: var(--fill-color);\n",
              "    }\n",
              "    30% {\n",
              "      border-color: transparent;\n",
              "      border-left-color: var(--fill-color);\n",
              "      border-top-color: var(--fill-color);\n",
              "      border-right-color: var(--fill-color);\n",
              "    }\n",
              "    40% {\n",
              "      border-color: transparent;\n",
              "      border-right-color: var(--fill-color);\n",
              "      border-top-color: var(--fill-color);\n",
              "    }\n",
              "    60% {\n",
              "      border-color: transparent;\n",
              "      border-right-color: var(--fill-color);\n",
              "    }\n",
              "    80% {\n",
              "      border-color: transparent;\n",
              "      border-right-color: var(--fill-color);\n",
              "      border-bottom-color: var(--fill-color);\n",
              "    }\n",
              "    90% {\n",
              "      border-color: transparent;\n",
              "      border-bottom-color: var(--fill-color);\n",
              "    }\n",
              "  }\n",
              "</style>\n",
              "\n",
              "  <script>\n",
              "    async function quickchart(key) {\n",
              "      const quickchartButtonEl =\n",
              "        document.querySelector('#' + key + ' button');\n",
              "      quickchartButtonEl.disabled = true;  // To prevent multiple clicks.\n",
              "      quickchartButtonEl.classList.add('colab-df-spinner');\n",
              "      try {\n",
              "        const charts = await google.colab.kernel.invokeFunction(\n",
              "            'suggestCharts', [key], {});\n",
              "      } catch (error) {\n",
              "        console.error('Error during call to suggestCharts:', error);\n",
              "      }\n",
              "      quickchartButtonEl.classList.remove('colab-df-spinner');\n",
              "      quickchartButtonEl.classList.add('colab-df-quickchart-complete');\n",
              "    }\n",
              "    (() => {\n",
              "      let quickchartButtonEl =\n",
              "        document.querySelector('#df-a5f1d1ee-79fd-4aa0-af6e-b3b9f992e5c4 button');\n",
              "      quickchartButtonEl.style.display =\n",
              "        google.colab.kernel.accessAllowed ? 'block' : 'none';\n",
              "    })();\n",
              "  </script>\n",
              "</div>\n",
              "\n",
              "    </div>\n",
              "  </div>\n"
            ],
            "application/vnd.google.colaboratory.intrinsic+json": {
              "type": "dataframe",
              "variable_name": "df",
              "summary": "{\n  \"name\": \"df\",\n  \"rows\": 25,\n  \"fields\": [\n    {\n      \"column\": \"W\",\n      \"properties\": {\n        \"dtype\": \"number\",\n        \"std\": 30,\n        \"min\": 4,\n        \"max\": 98,\n        \"num_unique_values\": 24,\n        \"samples\": [\n          85,\n          69,\n          7\n        ],\n        \"semantic_type\": \"\",\n        \"description\": \"\"\n      }\n    },\n    {\n      \"column\": \"X\",\n      \"properties\": {\n        \"dtype\": \"number\",\n        \"std\": 31,\n        \"min\": 5,\n        \"max\": 97,\n        \"num_unique_values\": 23,\n        \"samples\": [\n          34,\n          55,\n          7\n        ],\n        \"semantic_type\": \"\",\n        \"description\": \"\"\n      }\n    },\n    {\n      \"column\": \"Y\",\n      \"properties\": {\n        \"dtype\": \"number\",\n        \"std\": 26,\n        \"min\": 3,\n        \"max\": 97,\n        \"num_unique_values\": 21,\n        \"samples\": [\n          41,\n          65,\n          31\n        ],\n        \"semantic_type\": \"\",\n        \"description\": \"\"\n      }\n    },\n    {\n      \"column\": \"Z\",\n      \"properties\": {\n        \"dtype\": \"number\",\n        \"std\": 27,\n        \"min\": 5,\n        \"max\": 98,\n        \"num_unique_values\": 24,\n        \"samples\": [\n          60,\n          59,\n          55\n        ],\n        \"semantic_type\": \"\",\n        \"description\": \"\"\n      }\n    }\n  ]\n}"
            }
          },
          "metadata": {},
          "execution_count": 30
        }
      ]
    },
    {
      "cell_type": "code",
      "source": [
        "df.head(10)"
      ],
      "metadata": {
        "colab": {
          "base_uri": "https://localhost:8080/",
          "height": 363
        },
        "id": "LDeRN2TJqWvZ",
        "outputId": "a390522a-9fc8-4b62-9fab-e821db36245c"
      },
      "execution_count": 31,
      "outputs": [
        {
          "output_type": "execute_result",
          "data": {
            "text/plain": [
              "    W   X   Y   Z\n",
              "0   7   7  41  55\n",
              "1  16  87  84  46\n",
              "2  27   5  28  52\n",
              "3  53  57  22  40\n",
              "4  84  42  89  77\n",
              "5  72  94  45  45\n",
              "6  87  74  97  96\n",
              "7  25  59  18  86\n",
              "8  85  97   7  60\n",
              "9   4  55  34  65"
            ],
            "text/html": [
              "\n",
              "  <div id=\"df-951ed2be-4321-4771-a1c9-c77469794361\" class=\"colab-df-container\">\n",
              "    <div>\n",
              "<style scoped>\n",
              "    .dataframe tbody tr th:only-of-type {\n",
              "        vertical-align: middle;\n",
              "    }\n",
              "\n",
              "    .dataframe tbody tr th {\n",
              "        vertical-align: top;\n",
              "    }\n",
              "\n",
              "    .dataframe thead th {\n",
              "        text-align: right;\n",
              "    }\n",
              "</style>\n",
              "<table border=\"1\" class=\"dataframe\">\n",
              "  <thead>\n",
              "    <tr style=\"text-align: right;\">\n",
              "      <th></th>\n",
              "      <th>W</th>\n",
              "      <th>X</th>\n",
              "      <th>Y</th>\n",
              "      <th>Z</th>\n",
              "    </tr>\n",
              "  </thead>\n",
              "  <tbody>\n",
              "    <tr>\n",
              "      <th>0</th>\n",
              "      <td>7</td>\n",
              "      <td>7</td>\n",
              "      <td>41</td>\n",
              "      <td>55</td>\n",
              "    </tr>\n",
              "    <tr>\n",
              "      <th>1</th>\n",
              "      <td>16</td>\n",
              "      <td>87</td>\n",
              "      <td>84</td>\n",
              "      <td>46</td>\n",
              "    </tr>\n",
              "    <tr>\n",
              "      <th>2</th>\n",
              "      <td>27</td>\n",
              "      <td>5</td>\n",
              "      <td>28</td>\n",
              "      <td>52</td>\n",
              "    </tr>\n",
              "    <tr>\n",
              "      <th>3</th>\n",
              "      <td>53</td>\n",
              "      <td>57</td>\n",
              "      <td>22</td>\n",
              "      <td>40</td>\n",
              "    </tr>\n",
              "    <tr>\n",
              "      <th>4</th>\n",
              "      <td>84</td>\n",
              "      <td>42</td>\n",
              "      <td>89</td>\n",
              "      <td>77</td>\n",
              "    </tr>\n",
              "    <tr>\n",
              "      <th>5</th>\n",
              "      <td>72</td>\n",
              "      <td>94</td>\n",
              "      <td>45</td>\n",
              "      <td>45</td>\n",
              "    </tr>\n",
              "    <tr>\n",
              "      <th>6</th>\n",
              "      <td>87</td>\n",
              "      <td>74</td>\n",
              "      <td>97</td>\n",
              "      <td>96</td>\n",
              "    </tr>\n",
              "    <tr>\n",
              "      <th>7</th>\n",
              "      <td>25</td>\n",
              "      <td>59</td>\n",
              "      <td>18</td>\n",
              "      <td>86</td>\n",
              "    </tr>\n",
              "    <tr>\n",
              "      <th>8</th>\n",
              "      <td>85</td>\n",
              "      <td>97</td>\n",
              "      <td>7</td>\n",
              "      <td>60</td>\n",
              "    </tr>\n",
              "    <tr>\n",
              "      <th>9</th>\n",
              "      <td>4</td>\n",
              "      <td>55</td>\n",
              "      <td>34</td>\n",
              "      <td>65</td>\n",
              "    </tr>\n",
              "  </tbody>\n",
              "</table>\n",
              "</div>\n",
              "    <div class=\"colab-df-buttons\">\n",
              "\n",
              "  <div class=\"colab-df-container\">\n",
              "    <button class=\"colab-df-convert\" onclick=\"convertToInteractive('df-951ed2be-4321-4771-a1c9-c77469794361')\"\n",
              "            title=\"Convert this dataframe to an interactive table.\"\n",
              "            style=\"display:none;\">\n",
              "\n",
              "  <svg xmlns=\"http://www.w3.org/2000/svg\" height=\"24px\" viewBox=\"0 -960 960 960\">\n",
              "    <path d=\"M120-120v-720h720v720H120Zm60-500h600v-160H180v160Zm220 220h160v-160H400v160Zm0 220h160v-160H400v160ZM180-400h160v-160H180v160Zm440 0h160v-160H620v160ZM180-180h160v-160H180v160Zm440 0h160v-160H620v160Z\"/>\n",
              "  </svg>\n",
              "    </button>\n",
              "\n",
              "  <style>\n",
              "    .colab-df-container {\n",
              "      display:flex;\n",
              "      gap: 12px;\n",
              "    }\n",
              "\n",
              "    .colab-df-convert {\n",
              "      background-color: #E8F0FE;\n",
              "      border: none;\n",
              "      border-radius: 50%;\n",
              "      cursor: pointer;\n",
              "      display: none;\n",
              "      fill: #1967D2;\n",
              "      height: 32px;\n",
              "      padding: 0 0 0 0;\n",
              "      width: 32px;\n",
              "    }\n",
              "\n",
              "    .colab-df-convert:hover {\n",
              "      background-color: #E2EBFA;\n",
              "      box-shadow: 0px 1px 2px rgba(60, 64, 67, 0.3), 0px 1px 3px 1px rgba(60, 64, 67, 0.15);\n",
              "      fill: #174EA6;\n",
              "    }\n",
              "\n",
              "    .colab-df-buttons div {\n",
              "      margin-bottom: 4px;\n",
              "    }\n",
              "\n",
              "    [theme=dark] .colab-df-convert {\n",
              "      background-color: #3B4455;\n",
              "      fill: #D2E3FC;\n",
              "    }\n",
              "\n",
              "    [theme=dark] .colab-df-convert:hover {\n",
              "      background-color: #434B5C;\n",
              "      box-shadow: 0px 1px 3px 1px rgba(0, 0, 0, 0.15);\n",
              "      filter: drop-shadow(0px 1px 2px rgba(0, 0, 0, 0.3));\n",
              "      fill: #FFFFFF;\n",
              "    }\n",
              "  </style>\n",
              "\n",
              "    <script>\n",
              "      const buttonEl =\n",
              "        document.querySelector('#df-951ed2be-4321-4771-a1c9-c77469794361 button.colab-df-convert');\n",
              "      buttonEl.style.display =\n",
              "        google.colab.kernel.accessAllowed ? 'block' : 'none';\n",
              "\n",
              "      async function convertToInteractive(key) {\n",
              "        const element = document.querySelector('#df-951ed2be-4321-4771-a1c9-c77469794361');\n",
              "        const dataTable =\n",
              "          await google.colab.kernel.invokeFunction('convertToInteractive',\n",
              "                                                    [key], {});\n",
              "        if (!dataTable) return;\n",
              "\n",
              "        const docLinkHtml = 'Like what you see? Visit the ' +\n",
              "          '<a target=\"_blank\" href=https://colab.research.google.com/notebooks/data_table.ipynb>data table notebook</a>'\n",
              "          + ' to learn more about interactive tables.';\n",
              "        element.innerHTML = '';\n",
              "        dataTable['output_type'] = 'display_data';\n",
              "        await google.colab.output.renderOutput(dataTable, element);\n",
              "        const docLink = document.createElement('div');\n",
              "        docLink.innerHTML = docLinkHtml;\n",
              "        element.appendChild(docLink);\n",
              "      }\n",
              "    </script>\n",
              "  </div>\n",
              "\n",
              "\n",
              "<div id=\"df-a265b426-df5d-4235-8190-79dea090cac1\">\n",
              "  <button class=\"colab-df-quickchart\" onclick=\"quickchart('df-a265b426-df5d-4235-8190-79dea090cac1')\"\n",
              "            title=\"Suggest charts\"\n",
              "            style=\"display:none;\">\n",
              "\n",
              "<svg xmlns=\"http://www.w3.org/2000/svg\" height=\"24px\"viewBox=\"0 0 24 24\"\n",
              "     width=\"24px\">\n",
              "    <g>\n",
              "        <path d=\"M19 3H5c-1.1 0-2 .9-2 2v14c0 1.1.9 2 2 2h14c1.1 0 2-.9 2-2V5c0-1.1-.9-2-2-2zM9 17H7v-7h2v7zm4 0h-2V7h2v10zm4 0h-2v-4h2v4z\"/>\n",
              "    </g>\n",
              "</svg>\n",
              "  </button>\n",
              "\n",
              "<style>\n",
              "  .colab-df-quickchart {\n",
              "      --bg-color: #E8F0FE;\n",
              "      --fill-color: #1967D2;\n",
              "      --hover-bg-color: #E2EBFA;\n",
              "      --hover-fill-color: #174EA6;\n",
              "      --disabled-fill-color: #AAA;\n",
              "      --disabled-bg-color: #DDD;\n",
              "  }\n",
              "\n",
              "  [theme=dark] .colab-df-quickchart {\n",
              "      --bg-color: #3B4455;\n",
              "      --fill-color: #D2E3FC;\n",
              "      --hover-bg-color: #434B5C;\n",
              "      --hover-fill-color: #FFFFFF;\n",
              "      --disabled-bg-color: #3B4455;\n",
              "      --disabled-fill-color: #666;\n",
              "  }\n",
              "\n",
              "  .colab-df-quickchart {\n",
              "    background-color: var(--bg-color);\n",
              "    border: none;\n",
              "    border-radius: 50%;\n",
              "    cursor: pointer;\n",
              "    display: none;\n",
              "    fill: var(--fill-color);\n",
              "    height: 32px;\n",
              "    padding: 0;\n",
              "    width: 32px;\n",
              "  }\n",
              "\n",
              "  .colab-df-quickchart:hover {\n",
              "    background-color: var(--hover-bg-color);\n",
              "    box-shadow: 0 1px 2px rgba(60, 64, 67, 0.3), 0 1px 3px 1px rgba(60, 64, 67, 0.15);\n",
              "    fill: var(--button-hover-fill-color);\n",
              "  }\n",
              "\n",
              "  .colab-df-quickchart-complete:disabled,\n",
              "  .colab-df-quickchart-complete:disabled:hover {\n",
              "    background-color: var(--disabled-bg-color);\n",
              "    fill: var(--disabled-fill-color);\n",
              "    box-shadow: none;\n",
              "  }\n",
              "\n",
              "  .colab-df-spinner {\n",
              "    border: 2px solid var(--fill-color);\n",
              "    border-color: transparent;\n",
              "    border-bottom-color: var(--fill-color);\n",
              "    animation:\n",
              "      spin 1s steps(1) infinite;\n",
              "  }\n",
              "\n",
              "  @keyframes spin {\n",
              "    0% {\n",
              "      border-color: transparent;\n",
              "      border-bottom-color: var(--fill-color);\n",
              "      border-left-color: var(--fill-color);\n",
              "    }\n",
              "    20% {\n",
              "      border-color: transparent;\n",
              "      border-left-color: var(--fill-color);\n",
              "      border-top-color: var(--fill-color);\n",
              "    }\n",
              "    30% {\n",
              "      border-color: transparent;\n",
              "      border-left-color: var(--fill-color);\n",
              "      border-top-color: var(--fill-color);\n",
              "      border-right-color: var(--fill-color);\n",
              "    }\n",
              "    40% {\n",
              "      border-color: transparent;\n",
              "      border-right-color: var(--fill-color);\n",
              "      border-top-color: var(--fill-color);\n",
              "    }\n",
              "    60% {\n",
              "      border-color: transparent;\n",
              "      border-right-color: var(--fill-color);\n",
              "    }\n",
              "    80% {\n",
              "      border-color: transparent;\n",
              "      border-right-color: var(--fill-color);\n",
              "      border-bottom-color: var(--fill-color);\n",
              "    }\n",
              "    90% {\n",
              "      border-color: transparent;\n",
              "      border-bottom-color: var(--fill-color);\n",
              "    }\n",
              "  }\n",
              "</style>\n",
              "\n",
              "  <script>\n",
              "    async function quickchart(key) {\n",
              "      const quickchartButtonEl =\n",
              "        document.querySelector('#' + key + ' button');\n",
              "      quickchartButtonEl.disabled = true;  // To prevent multiple clicks.\n",
              "      quickchartButtonEl.classList.add('colab-df-spinner');\n",
              "      try {\n",
              "        const charts = await google.colab.kernel.invokeFunction(\n",
              "            'suggestCharts', [key], {});\n",
              "      } catch (error) {\n",
              "        console.error('Error during call to suggestCharts:', error);\n",
              "      }\n",
              "      quickchartButtonEl.classList.remove('colab-df-spinner');\n",
              "      quickchartButtonEl.classList.add('colab-df-quickchart-complete');\n",
              "    }\n",
              "    (() => {\n",
              "      let quickchartButtonEl =\n",
              "        document.querySelector('#df-a265b426-df5d-4235-8190-79dea090cac1 button');\n",
              "      quickchartButtonEl.style.display =\n",
              "        google.colab.kernel.accessAllowed ? 'block' : 'none';\n",
              "    })();\n",
              "  </script>\n",
              "</div>\n",
              "\n",
              "    </div>\n",
              "  </div>\n"
            ],
            "application/vnd.google.colaboratory.intrinsic+json": {
              "type": "dataframe",
              "variable_name": "df",
              "summary": "{\n  \"name\": \"df\",\n  \"rows\": 25,\n  \"fields\": [\n    {\n      \"column\": \"W\",\n      \"properties\": {\n        \"dtype\": \"number\",\n        \"std\": 30,\n        \"min\": 4,\n        \"max\": 98,\n        \"num_unique_values\": 24,\n        \"samples\": [\n          85,\n          69,\n          7\n        ],\n        \"semantic_type\": \"\",\n        \"description\": \"\"\n      }\n    },\n    {\n      \"column\": \"X\",\n      \"properties\": {\n        \"dtype\": \"number\",\n        \"std\": 31,\n        \"min\": 5,\n        \"max\": 97,\n        \"num_unique_values\": 23,\n        \"samples\": [\n          34,\n          55,\n          7\n        ],\n        \"semantic_type\": \"\",\n        \"description\": \"\"\n      }\n    },\n    {\n      \"column\": \"Y\",\n      \"properties\": {\n        \"dtype\": \"number\",\n        \"std\": 26,\n        \"min\": 3,\n        \"max\": 97,\n        \"num_unique_values\": 21,\n        \"samples\": [\n          41,\n          65,\n          31\n        ],\n        \"semantic_type\": \"\",\n        \"description\": \"\"\n      }\n    },\n    {\n      \"column\": \"Z\",\n      \"properties\": {\n        \"dtype\": \"number\",\n        \"std\": 27,\n        \"min\": 5,\n        \"max\": 98,\n        \"num_unique_values\": 24,\n        \"samples\": [\n          60,\n          59,\n          55\n        ],\n        \"semantic_type\": \"\",\n        \"description\": \"\"\n      }\n    }\n  ]\n}"
            }
          },
          "metadata": {},
          "execution_count": 31
        }
      ]
    },
    {
      "cell_type": "code",
      "source": [
        "df.tail(8)"
      ],
      "metadata": {
        "colab": {
          "base_uri": "https://localhost:8080/",
          "height": 301
        },
        "id": "t2udRyKlqaJq",
        "outputId": "2415968a-e74e-458f-afe3-4db3b2e5a44a"
      },
      "execution_count": 32,
      "outputs": [
        {
          "output_type": "execute_result",
          "data": {
            "text/plain": [
              "     W   X   Y   Z\n",
              "17  69  78  45  93\n",
              "18  37   6  45  25\n",
              "19  15   5   3  79\n",
              "20  61  64  71  12\n",
              "21  90  20  65  33\n",
              "22  98  80  81  52\n",
              "23  38  72  52   5\n",
              "24  77  83  42  14"
            ],
            "text/html": [
              "\n",
              "  <div id=\"df-547a73a4-073e-443d-b424-5d95f7000d0f\" class=\"colab-df-container\">\n",
              "    <div>\n",
              "<style scoped>\n",
              "    .dataframe tbody tr th:only-of-type {\n",
              "        vertical-align: middle;\n",
              "    }\n",
              "\n",
              "    .dataframe tbody tr th {\n",
              "        vertical-align: top;\n",
              "    }\n",
              "\n",
              "    .dataframe thead th {\n",
              "        text-align: right;\n",
              "    }\n",
              "</style>\n",
              "<table border=\"1\" class=\"dataframe\">\n",
              "  <thead>\n",
              "    <tr style=\"text-align: right;\">\n",
              "      <th></th>\n",
              "      <th>W</th>\n",
              "      <th>X</th>\n",
              "      <th>Y</th>\n",
              "      <th>Z</th>\n",
              "    </tr>\n",
              "  </thead>\n",
              "  <tbody>\n",
              "    <tr>\n",
              "      <th>17</th>\n",
              "      <td>69</td>\n",
              "      <td>78</td>\n",
              "      <td>45</td>\n",
              "      <td>93</td>\n",
              "    </tr>\n",
              "    <tr>\n",
              "      <th>18</th>\n",
              "      <td>37</td>\n",
              "      <td>6</td>\n",
              "      <td>45</td>\n",
              "      <td>25</td>\n",
              "    </tr>\n",
              "    <tr>\n",
              "      <th>19</th>\n",
              "      <td>15</td>\n",
              "      <td>5</td>\n",
              "      <td>3</td>\n",
              "      <td>79</td>\n",
              "    </tr>\n",
              "    <tr>\n",
              "      <th>20</th>\n",
              "      <td>61</td>\n",
              "      <td>64</td>\n",
              "      <td>71</td>\n",
              "      <td>12</td>\n",
              "    </tr>\n",
              "    <tr>\n",
              "      <th>21</th>\n",
              "      <td>90</td>\n",
              "      <td>20</td>\n",
              "      <td>65</td>\n",
              "      <td>33</td>\n",
              "    </tr>\n",
              "    <tr>\n",
              "      <th>22</th>\n",
              "      <td>98</td>\n",
              "      <td>80</td>\n",
              "      <td>81</td>\n",
              "      <td>52</td>\n",
              "    </tr>\n",
              "    <tr>\n",
              "      <th>23</th>\n",
              "      <td>38</td>\n",
              "      <td>72</td>\n",
              "      <td>52</td>\n",
              "      <td>5</td>\n",
              "    </tr>\n",
              "    <tr>\n",
              "      <th>24</th>\n",
              "      <td>77</td>\n",
              "      <td>83</td>\n",
              "      <td>42</td>\n",
              "      <td>14</td>\n",
              "    </tr>\n",
              "  </tbody>\n",
              "</table>\n",
              "</div>\n",
              "    <div class=\"colab-df-buttons\">\n",
              "\n",
              "  <div class=\"colab-df-container\">\n",
              "    <button class=\"colab-df-convert\" onclick=\"convertToInteractive('df-547a73a4-073e-443d-b424-5d95f7000d0f')\"\n",
              "            title=\"Convert this dataframe to an interactive table.\"\n",
              "            style=\"display:none;\">\n",
              "\n",
              "  <svg xmlns=\"http://www.w3.org/2000/svg\" height=\"24px\" viewBox=\"0 -960 960 960\">\n",
              "    <path d=\"M120-120v-720h720v720H120Zm60-500h600v-160H180v160Zm220 220h160v-160H400v160Zm0 220h160v-160H400v160ZM180-400h160v-160H180v160Zm440 0h160v-160H620v160ZM180-180h160v-160H180v160Zm440 0h160v-160H620v160Z\"/>\n",
              "  </svg>\n",
              "    </button>\n",
              "\n",
              "  <style>\n",
              "    .colab-df-container {\n",
              "      display:flex;\n",
              "      gap: 12px;\n",
              "    }\n",
              "\n",
              "    .colab-df-convert {\n",
              "      background-color: #E8F0FE;\n",
              "      border: none;\n",
              "      border-radius: 50%;\n",
              "      cursor: pointer;\n",
              "      display: none;\n",
              "      fill: #1967D2;\n",
              "      height: 32px;\n",
              "      padding: 0 0 0 0;\n",
              "      width: 32px;\n",
              "    }\n",
              "\n",
              "    .colab-df-convert:hover {\n",
              "      background-color: #E2EBFA;\n",
              "      box-shadow: 0px 1px 2px rgba(60, 64, 67, 0.3), 0px 1px 3px 1px rgba(60, 64, 67, 0.15);\n",
              "      fill: #174EA6;\n",
              "    }\n",
              "\n",
              "    .colab-df-buttons div {\n",
              "      margin-bottom: 4px;\n",
              "    }\n",
              "\n",
              "    [theme=dark] .colab-df-convert {\n",
              "      background-color: #3B4455;\n",
              "      fill: #D2E3FC;\n",
              "    }\n",
              "\n",
              "    [theme=dark] .colab-df-convert:hover {\n",
              "      background-color: #434B5C;\n",
              "      box-shadow: 0px 1px 3px 1px rgba(0, 0, 0, 0.15);\n",
              "      filter: drop-shadow(0px 1px 2px rgba(0, 0, 0, 0.3));\n",
              "      fill: #FFFFFF;\n",
              "    }\n",
              "  </style>\n",
              "\n",
              "    <script>\n",
              "      const buttonEl =\n",
              "        document.querySelector('#df-547a73a4-073e-443d-b424-5d95f7000d0f button.colab-df-convert');\n",
              "      buttonEl.style.display =\n",
              "        google.colab.kernel.accessAllowed ? 'block' : 'none';\n",
              "\n",
              "      async function convertToInteractive(key) {\n",
              "        const element = document.querySelector('#df-547a73a4-073e-443d-b424-5d95f7000d0f');\n",
              "        const dataTable =\n",
              "          await google.colab.kernel.invokeFunction('convertToInteractive',\n",
              "                                                    [key], {});\n",
              "        if (!dataTable) return;\n",
              "\n",
              "        const docLinkHtml = 'Like what you see? Visit the ' +\n",
              "          '<a target=\"_blank\" href=https://colab.research.google.com/notebooks/data_table.ipynb>data table notebook</a>'\n",
              "          + ' to learn more about interactive tables.';\n",
              "        element.innerHTML = '';\n",
              "        dataTable['output_type'] = 'display_data';\n",
              "        await google.colab.output.renderOutput(dataTable, element);\n",
              "        const docLink = document.createElement('div');\n",
              "        docLink.innerHTML = docLinkHtml;\n",
              "        element.appendChild(docLink);\n",
              "      }\n",
              "    </script>\n",
              "  </div>\n",
              "\n",
              "\n",
              "<div id=\"df-1705822a-cbe3-4596-9d8c-33860c62c152\">\n",
              "  <button class=\"colab-df-quickchart\" onclick=\"quickchart('df-1705822a-cbe3-4596-9d8c-33860c62c152')\"\n",
              "            title=\"Suggest charts\"\n",
              "            style=\"display:none;\">\n",
              "\n",
              "<svg xmlns=\"http://www.w3.org/2000/svg\" height=\"24px\"viewBox=\"0 0 24 24\"\n",
              "     width=\"24px\">\n",
              "    <g>\n",
              "        <path d=\"M19 3H5c-1.1 0-2 .9-2 2v14c0 1.1.9 2 2 2h14c1.1 0 2-.9 2-2V5c0-1.1-.9-2-2-2zM9 17H7v-7h2v7zm4 0h-2V7h2v10zm4 0h-2v-4h2v4z\"/>\n",
              "    </g>\n",
              "</svg>\n",
              "  </button>\n",
              "\n",
              "<style>\n",
              "  .colab-df-quickchart {\n",
              "      --bg-color: #E8F0FE;\n",
              "      --fill-color: #1967D2;\n",
              "      --hover-bg-color: #E2EBFA;\n",
              "      --hover-fill-color: #174EA6;\n",
              "      --disabled-fill-color: #AAA;\n",
              "      --disabled-bg-color: #DDD;\n",
              "  }\n",
              "\n",
              "  [theme=dark] .colab-df-quickchart {\n",
              "      --bg-color: #3B4455;\n",
              "      --fill-color: #D2E3FC;\n",
              "      --hover-bg-color: #434B5C;\n",
              "      --hover-fill-color: #FFFFFF;\n",
              "      --disabled-bg-color: #3B4455;\n",
              "      --disabled-fill-color: #666;\n",
              "  }\n",
              "\n",
              "  .colab-df-quickchart {\n",
              "    background-color: var(--bg-color);\n",
              "    border: none;\n",
              "    border-radius: 50%;\n",
              "    cursor: pointer;\n",
              "    display: none;\n",
              "    fill: var(--fill-color);\n",
              "    height: 32px;\n",
              "    padding: 0;\n",
              "    width: 32px;\n",
              "  }\n",
              "\n",
              "  .colab-df-quickchart:hover {\n",
              "    background-color: var(--hover-bg-color);\n",
              "    box-shadow: 0 1px 2px rgba(60, 64, 67, 0.3), 0 1px 3px 1px rgba(60, 64, 67, 0.15);\n",
              "    fill: var(--button-hover-fill-color);\n",
              "  }\n",
              "\n",
              "  .colab-df-quickchart-complete:disabled,\n",
              "  .colab-df-quickchart-complete:disabled:hover {\n",
              "    background-color: var(--disabled-bg-color);\n",
              "    fill: var(--disabled-fill-color);\n",
              "    box-shadow: none;\n",
              "  }\n",
              "\n",
              "  .colab-df-spinner {\n",
              "    border: 2px solid var(--fill-color);\n",
              "    border-color: transparent;\n",
              "    border-bottom-color: var(--fill-color);\n",
              "    animation:\n",
              "      spin 1s steps(1) infinite;\n",
              "  }\n",
              "\n",
              "  @keyframes spin {\n",
              "    0% {\n",
              "      border-color: transparent;\n",
              "      border-bottom-color: var(--fill-color);\n",
              "      border-left-color: var(--fill-color);\n",
              "    }\n",
              "    20% {\n",
              "      border-color: transparent;\n",
              "      border-left-color: var(--fill-color);\n",
              "      border-top-color: var(--fill-color);\n",
              "    }\n",
              "    30% {\n",
              "      border-color: transparent;\n",
              "      border-left-color: var(--fill-color);\n",
              "      border-top-color: var(--fill-color);\n",
              "      border-right-color: var(--fill-color);\n",
              "    }\n",
              "    40% {\n",
              "      border-color: transparent;\n",
              "      border-right-color: var(--fill-color);\n",
              "      border-top-color: var(--fill-color);\n",
              "    }\n",
              "    60% {\n",
              "      border-color: transparent;\n",
              "      border-right-color: var(--fill-color);\n",
              "    }\n",
              "    80% {\n",
              "      border-color: transparent;\n",
              "      border-right-color: var(--fill-color);\n",
              "      border-bottom-color: var(--fill-color);\n",
              "    }\n",
              "    90% {\n",
              "      border-color: transparent;\n",
              "      border-bottom-color: var(--fill-color);\n",
              "    }\n",
              "  }\n",
              "</style>\n",
              "\n",
              "  <script>\n",
              "    async function quickchart(key) {\n",
              "      const quickchartButtonEl =\n",
              "        document.querySelector('#' + key + ' button');\n",
              "      quickchartButtonEl.disabled = true;  // To prevent multiple clicks.\n",
              "      quickchartButtonEl.classList.add('colab-df-spinner');\n",
              "      try {\n",
              "        const charts = await google.colab.kernel.invokeFunction(\n",
              "            'suggestCharts', [key], {});\n",
              "      } catch (error) {\n",
              "        console.error('Error during call to suggestCharts:', error);\n",
              "      }\n",
              "      quickchartButtonEl.classList.remove('colab-df-spinner');\n",
              "      quickchartButtonEl.classList.add('colab-df-quickchart-complete');\n",
              "    }\n",
              "    (() => {\n",
              "      let quickchartButtonEl =\n",
              "        document.querySelector('#df-1705822a-cbe3-4596-9d8c-33860c62c152 button');\n",
              "      quickchartButtonEl.style.display =\n",
              "        google.colab.kernel.accessAllowed ? 'block' : 'none';\n",
              "    })();\n",
              "  </script>\n",
              "</div>\n",
              "\n",
              "    </div>\n",
              "  </div>\n"
            ],
            "application/vnd.google.colaboratory.intrinsic+json": {
              "type": "dataframe",
              "summary": "{\n  \"name\": \"df\",\n  \"rows\": 8,\n  \"fields\": [\n    {\n      \"column\": \"W\",\n      \"properties\": {\n        \"dtype\": \"number\",\n        \"std\": 28,\n        \"min\": 15,\n        \"max\": 98,\n        \"num_unique_values\": 8,\n        \"samples\": [\n          37,\n          98,\n          69\n        ],\n        \"semantic_type\": \"\",\n        \"description\": \"\"\n      }\n    },\n    {\n      \"column\": \"X\",\n      \"properties\": {\n        \"dtype\": \"number\",\n        \"std\": 34,\n        \"min\": 5,\n        \"max\": 83,\n        \"num_unique_values\": 8,\n        \"samples\": [\n          6,\n          80,\n          78\n        ],\n        \"semantic_type\": \"\",\n        \"description\": \"\"\n      }\n    },\n    {\n      \"column\": \"Y\",\n      \"properties\": {\n        \"dtype\": \"number\",\n        \"std\": 23,\n        \"min\": 3,\n        \"max\": 81,\n        \"num_unique_values\": 7,\n        \"samples\": [\n          45,\n          3,\n          52\n        ],\n        \"semantic_type\": \"\",\n        \"description\": \"\"\n      }\n    },\n    {\n      \"column\": \"Z\",\n      \"properties\": {\n        \"dtype\": \"number\",\n        \"std\": 32,\n        \"min\": 5,\n        \"max\": 93,\n        \"num_unique_values\": 8,\n        \"samples\": [\n          25,\n          52,\n          93\n        ],\n        \"semantic_type\": \"\",\n        \"description\": \"\"\n      }\n    }\n  ]\n}"
            }
          },
          "metadata": {},
          "execution_count": 32
        }
      ]
    },
    {
      "cell_type": "code",
      "source": [
        "print(\"\\nThe 'X' column\\n\",'-'*25, sep='')\n",
        "print(df['X'])\n",
        "print(\"\\nType of the column: \", type(df['X']), sep='')\n",
        "print(\"\\nThe 'X' and 'Z' columns indexed by passing a list\\n\",'-'*55, sep='')\n",
        "print(df[['X','Z']])\n",
        "print(\"\\nType of the pair of columns: \", type(df[['X','Z']]), sep='')"
      ],
      "metadata": {
        "colab": {
          "base_uri": "https://localhost:8080/"
        },
        "id": "UIWR5dx_qlyq",
        "outputId": "efd97c6e-814b-4c58-8140-d5de73c46055"
      },
      "execution_count": 33,
      "outputs": [
        {
          "output_type": "stream",
          "name": "stdout",
          "text": [
            "\n",
            "The 'X' column\n",
            "-------------------------\n",
            "0      7\n",
            "1     87\n",
            "2      5\n",
            "3     57\n",
            "4     42\n",
            "5     94\n",
            "6     74\n",
            "7     59\n",
            "8     97\n",
            "9     55\n",
            "10    38\n",
            "11    91\n",
            "12    30\n",
            "13    18\n",
            "14    36\n",
            "15    34\n",
            "16    20\n",
            "17    78\n",
            "18     6\n",
            "19     5\n",
            "20    64\n",
            "21    20\n",
            "22    80\n",
            "23    72\n",
            "24    83\n",
            "Name: X, dtype: int64\n",
            "\n",
            "Type of the column: <class 'pandas.core.series.Series'>\n",
            "\n",
            "The 'X' and 'Z' columns indexed by passing a list\n",
            "-------------------------------------------------------\n",
            "     X   Z\n",
            "0    7  55\n",
            "1   87  46\n",
            "2    5  52\n",
            "3   57  40\n",
            "4   42  77\n",
            "5   94  45\n",
            "6   74  96\n",
            "7   59  86\n",
            "8   97  60\n",
            "9   55  65\n",
            "10  38  54\n",
            "11  91  53\n",
            "12  30  18\n",
            "13  18  98\n",
            "14  36  34\n",
            "15  34   9\n",
            "16  20  59\n",
            "17  78  93\n",
            "18   6  25\n",
            "19   5  79\n",
            "20  64  12\n",
            "21  20  33\n",
            "22  80  52\n",
            "23  72   5\n",
            "24  83  14\n",
            "\n",
            "Type of the pair of columns: <class 'pandas.core.frame.DataFrame'>\n"
          ]
        }
      ]
    },
    {
      "cell_type": "code",
      "source": [
        "matrix_data = np.random.randint(1,10,size=20).reshape(5,4)\n",
        "row_labels = ['A','B','C','D','E']\n",
        "column_headings = ['W','X','Y','Z']\n",
        "\n",
        "df = pd.DataFrame(data=matrix_data, index=row_labels, columns=column_headings)\n",
        "print(\"\\nLabel-based 'loc' method can be used for selecting row(s)\\n\",'-'*60, sep='')\n",
        "print(\"\\nSingle row\\n\")\n",
        "print(df.loc['C'])\n",
        "print(\"\\nMultiple rows\\n\")\n",
        "print(df.loc[['B','C']])\n",
        "print(\"\\nIndex position based 'iloc' method can be used for selecting row(s)\\n\",'-'*70, sep='')\n",
        "print(\"\\nSingle row\\n\")\n",
        "print(df.iloc[2])\n",
        "print(\"\\nMultiple rows\\n\")\n",
        "print(df.iloc[[1,2]])"
      ],
      "metadata": {
        "colab": {
          "base_uri": "https://localhost:8080/"
        },
        "id": "4egMCrkcq-RK",
        "outputId": "afb13e75-173e-4e13-fd50-c2d86508e41c"
      },
      "execution_count": 34,
      "outputs": [
        {
          "output_type": "stream",
          "name": "stdout",
          "text": [
            "\n",
            "Label-based 'loc' method can be used for selecting row(s)\n",
            "------------------------------------------------------------\n",
            "\n",
            "Single row\n",
            "\n",
            "W    5\n",
            "X    2\n",
            "Y    7\n",
            "Z    1\n",
            "Name: C, dtype: int64\n",
            "\n",
            "Multiple rows\n",
            "\n",
            "   W  X  Y  Z\n",
            "B  8  5  8  3\n",
            "C  5  2  7  1\n",
            "\n",
            "Index position based 'iloc' method can be used for selecting row(s)\n",
            "----------------------------------------------------------------------\n",
            "\n",
            "Single row\n",
            "\n",
            "W    5\n",
            "X    2\n",
            "Y    7\n",
            "Z    1\n",
            "Name: C, dtype: int64\n",
            "\n",
            "Multiple rows\n",
            "\n",
            "   W  X  Y  Z\n",
            "B  8  5  8  3\n",
            "C  5  2  7  1\n"
          ]
        }
      ]
    },
    {
      "cell_type": "code",
      "source": [
        "print(\"\\nA column is created by assigning it in relation to an existing column\\n\",'-'*75, sep='')\n",
        "df['New'] = df['X']+df['Z']\n",
        "df['New (Sum of X and Z)'] = df['X']+df['Z']\n",
        "print(df)\n",
        "print(\"\\nA column is dropped by using df.drop() method\\n\",'-'*55, sep='')\n",
        "df = df.drop('New', axis=1) # Notice the axis=1 option, axis = 0 is default, so one has to change it to 1\n",
        "print(df)\n",
        "df1=df.drop('A')\n",
        "print(\"\\nA row (index) is dropped by using df.drop() method and axis=0\\n\",'-'*65, sep='')\n",
        "print(df1)\n",
        "print(\"\\nAn in-place change can be done by making inplace=True in the drop method\\n\",'-'*75, sep='')\n",
        "df.drop('New (Sum of X and Z)', axis=1, inplace=True)\n",
        "print(df)"
      ],
      "metadata": {
        "colab": {
          "base_uri": "https://localhost:8080/"
        },
        "id": "sIt1iAbBrIFr",
        "outputId": "5a74f324-db4c-4cbe-c3c5-4cbca3ba17d4"
      },
      "execution_count": 35,
      "outputs": [
        {
          "output_type": "stream",
          "name": "stdout",
          "text": [
            "\n",
            "A column is created by assigning it in relation to an existing column\n",
            "---------------------------------------------------------------------------\n",
            "   W  X  Y  Z  New  New (Sum of X and Z)\n",
            "A  8  7  5  2    9                     9\n",
            "B  8  5  8  3    8                     8\n",
            "C  5  2  7  1    3                     3\n",
            "D  9  2  3  2    4                     4\n",
            "E  9  3  5  4    7                     7\n",
            "\n",
            "A column is dropped by using df.drop() method\n",
            "-------------------------------------------------------\n",
            "   W  X  Y  Z  New (Sum of X and Z)\n",
            "A  8  7  5  2                     9\n",
            "B  8  5  8  3                     8\n",
            "C  5  2  7  1                     3\n",
            "D  9  2  3  2                     4\n",
            "E  9  3  5  4                     7\n",
            "\n",
            "A row (index) is dropped by using df.drop() method and axis=0\n",
            "-----------------------------------------------------------------\n",
            "   W  X  Y  Z  New (Sum of X and Z)\n",
            "B  8  5  8  3                     8\n",
            "C  5  2  7  1                     3\n",
            "D  9  2  3  2                     4\n",
            "E  9  3  5  4                     7\n",
            "\n",
            "An in-place change can be done by making inplace=True in the drop method\n",
            "---------------------------------------------------------------------------\n",
            "   W  X  Y  Z\n",
            "A  8  7  5  2\n",
            "B  8  5  8  3\n",
            "C  5  2  7  1\n",
            "D  9  2  3  2\n",
            "E  9  3  5  4\n"
          ]
        }
      ]
    },
    {
      "cell_type": "code",
      "source": [],
      "metadata": {
        "id": "jckE3qI1rJ65"
      },
      "execution_count": null,
      "outputs": []
    },
    {
      "cell_type": "code",
      "source": [],
      "metadata": {
        "id": "P2MENcPgrpE6"
      },
      "execution_count": null,
      "outputs": []
    },
    {
      "cell_type": "code",
      "source": [
        "import matplotlib.pyplot as plt\n",
        "import numpy as np\n",
        "import pandas as pd"
      ],
      "metadata": {
        "id": "Im_MfCfCrpNr"
      },
      "execution_count": 36,
      "outputs": []
    },
    {
      "cell_type": "code",
      "source": [
        "people = ['Ann','Brandon','Chen','David','Emily','Farook',\n",
        "          'Gagan','Hamish','Imran','Joseph','Katherine','Lily']\n",
        "age = [21,12,32,45,37,18,28,52,5,40,48,15]\n",
        "weight = [55,35,77,68,70,60,72,69,18,65,82,48]\n",
        "height = [160,135,170,165,173,168,175,159,105,171,155,158]"
      ],
      "metadata": {
        "id": "G6uR33uCrqxB"
      },
      "execution_count": 37,
      "outputs": []
    },
    {
      "cell_type": "code",
      "source": [
        "plt.scatter(age,weight)\n",
        "plt.show()"
      ],
      "metadata": {
        "colab": {
          "base_uri": "https://localhost:8080/",
          "height": 430
        },
        "id": "qOFdQD5LryBb",
        "outputId": "0d61121b-6b2b-485f-9938-28f043f9cd2a"
      },
      "execution_count": 38,
      "outputs": [
        {
          "output_type": "display_data",
          "data": {
            "text/plain": [
              "<Figure size 640x480 with 1 Axes>"
            ],
            "image/png": "[encoded data removed]"
          },
          "metadata": {}
        }
      ]
    },
    {
      "cell_type": "code",
      "source": [
        "plt.figure(figsize=(8,6))\n",
        "plt.title(\"Plot of Age vs. Weight (in kgs)\",fontsize=20)\n",
        "plt.xlabel(\"Age (years)\",fontsize=16)\n",
        "plt.ylabel(\"Weight (kgs)\",fontsize=16)\n",
        "plt.grid (True)\n",
        "plt.ylim(0,100)\n",
        "plt.xticks([i*5 for i in range(12)],fontsize=15)\n",
        "plt.yticks(fontsize=15)\n",
        "plt.scatter(x=age,y=weight,c='orange',s=150,edgecolors='k')\n",
        "plt.text(x=20,y=85,s=\"Weights are more or less similar \\nafter 18-20 years of age\",fontsize=15)\n",
        "plt.vlines(x=20,ymin=0,ymax=80,linestyles='dashed',color='blue',lw=3)\n",
        "plt.legend(['Weight in kgs'],loc=2,fontsize=12)\n",
        "plt.show()"
      ],
      "metadata": {
        "colab": {
          "base_uri": "https://localhost:8080/",
          "height": 584
        },
        "id": "vpAIKxUkrz06",
        "outputId": "1c14ad69-1a50-4e04-a193-1b6e873f79d1"
      },
      "execution_count": 39,
      "outputs": [
        {
          "output_type": "display_data",
          "data": {
            "text/plain": [
              "<Figure size 800x600 with 1 Axes>"
            ],
            "image/png": "[encoded data removed]"
          },
          "metadata": {}
        }
      ]
    },
    {
      "cell_type": "code",
      "source": [
        "x = np.random.randint(1,10)\n",
        "print(x)"
      ],
      "metadata": {
        "colab": {
          "base_uri": "https://localhost:8080/"
        },
        "id": "Gnv-yjhzr4rK",
        "outputId": "b225371a-a1cb-44bc-a2aa-cec9586d8976"
      },
      "execution_count": 40,
      "outputs": [
        {
          "output_type": "stream",
          "name": "stdout",
          "text": [
            "9\n"
          ]
        }
      ]
    },
    {
      "cell_type": "code",
      "source": [
        "x = np.random.randint(1,10,size=1)\n",
        "print(x)"
      ],
      "metadata": {
        "colab": {
          "base_uri": "https://localhost:8080/"
        },
        "id": "lQNUjv6Mr9nC",
        "outputId": "9f07eaf3-46e9-45b3-e49b-c3703fade582"
      },
      "execution_count": 41,
      "outputs": [
        {
          "output_type": "stream",
          "name": "stdout",
          "text": [
            "[7]\n"
          ]
        }
      ]
    },
    {
      "cell_type": "code",
      "source": [
        "x = np.random.randint(1,6,size=10)\n",
        "print(x)"
      ],
      "metadata": {
        "colab": {
          "base_uri": "https://localhost:8080/"
        },
        "id": "5iqy3Ln9sIyE",
        "outputId": "3fe9453c-efde-4909-ef8a-18aae9c76b17"
      },
      "execution_count": 42,
      "outputs": [
        {
          "output_type": "stream",
          "name": "stdout",
          "text": [
            "[3 1 4 3 5 5 3 3 3 1]\n"
          ]
        }
      ]
    },
    {
      "cell_type": "code",
      "source": [
        "x = 50+50*np.random.random(size=15)\n",
        "x= x.round(decimals=2)\n",
        "print(x)"
      ],
      "metadata": {
        "colab": {
          "base_uri": "https://localhost:8080/"
        },
        "id": "jAGCCdj_sLSa",
        "outputId": "47ba9424-7d2d-4b36-8b76-36d2fc4a76f0"
      },
      "execution_count": 43,
      "outputs": [
        {
          "output_type": "stream",
          "name": "stdout",
          "text": [
            "[52.96 52.72 74.61 82.1  87.83 62.56 96.7  83.53 59.55 71.07 84.67 53.83\n",
            " 95.07 97.92 84.25]\n"
          ]
        }
      ]
    },
    {
      "cell_type": "code",
      "source": [
        "x = np.random.rand(3,3)\n",
        "print(x)"
      ],
      "metadata": {
        "colab": {
          "base_uri": "https://localhost:8080/"
        },
        "id": "kSmTVeYnsOBY",
        "outputId": "61f98323-9cfd-4d26-f31d-612715cd0336"
      },
      "execution_count": 44,
      "outputs": [
        {
          "output_type": "stream",
          "name": "stdout",
          "text": [
            "[[0.44103721 0.80299849 0.06729111]\n",
            " [0.36296178 0.8108836  0.76742167]\n",
            " [0.02726184 0.9728385  0.34947896]]\n"
          ]
        }
      ]
    },
    {
      "cell_type": "code",
      "source": [
        "x = np.random.binomial(10,0.6,size=8)\n",
        "print(x)"
      ],
      "metadata": {
        "colab": {
          "base_uri": "https://localhost:8080/"
        },
        "id": "frZQ5jqlsRPh",
        "outputId": "69446238-6e55-4836-871f-0de33330b6e8"
      },
      "execution_count": 45,
      "outputs": [
        {
          "output_type": "stream",
          "name": "stdout",
          "text": [
            "[4 5 6 5 5 5 5 4]\n"
          ]
        }
      ]
    },
    {
      "cell_type": "code",
      "source": [
        "x = np.random.normal()\n",
        "print(x)"
      ],
      "metadata": {
        "colab": {
          "base_uri": "https://localhost:8080/"
        },
        "id": "KpaLoO1SsX1B",
        "outputId": "937933ea-57a3-477a-a010-6237c21b7e76"
      },
      "execution_count": 47,
      "outputs": [
        {
          "output_type": "stream",
          "name": "stdout",
          "text": [
            "-0.00456711101340827\n"
          ]
        }
      ]
    },
    {
      "cell_type": "code",
      "source": [
        "heights = np.random.normal(loc=155,scale=10,size=100)\n",
        "plt.figure(figsize=(7,5))\n",
        "plt.hist(heights,color='orange',edgecolor='k')\n",
        "plt.title(\"Histogram of teen aged students's height\",fontsize=18)\n",
        "plt.xlabel(\"Height in cm\",fontsize=15)\n",
        "plt.xticks(fontsize=15)\n",
        "plt.yticks(fontsize=15)\n",
        "plt.show()"
      ],
      "metadata": {
        "colab": {
          "base_uri": "https://localhost:8080/",
          "height": 504
        },
        "id": "Nxfa_NupsrTK",
        "outputId": "13989c55-a273-4ce1-b943-2ee261196fa4"
      },
      "execution_count": 49,
      "outputs": [
        {
          "output_type": "display_data",
          "data": {
            "text/plain": [
              "<Figure size 700x500 with 1 Axes>"
            ],
            "image/png": "[encoded data removed]"
          },
          "metadata": {}
        }
      ]
    },
    {
      "cell_type": "code",
      "source": [
        "people_dict={'People':people,'Age':age,'Weight':weight,'Height':height}\n",
        "people_df=pd.DataFrame(data=people_dict)\n",
        "people_df"
      ],
      "metadata": {
        "colab": {
          "base_uri": "https://localhost:8080/",
          "height": 426
        },
        "id": "HdZ3R_J_svlw",
        "outputId": "cba93973-a871-4f7c-948e-3f3718937687"
      },
      "execution_count": 50,
      "outputs": [
        {
          "output_type": "execute_result",
          "data": {
            "text/plain": [
              "       People  Age  Weight  Height\n",
              "0         Ann   21      55     160\n",
              "1     Brandon   12      35     135\n",
              "2        Chen   32      77     170\n",
              "3       David   45      68     165\n",
              "4       Emily   37      70     173\n",
              "5      Farook   18      60     168\n",
              "6       Gagan   28      72     175\n",
              "7      Hamish   52      69     159\n",
              "8       Imran    5      18     105\n",
              "9      Joseph   40      65     171\n",
              "10  Katherine   48      82     155\n",
              "11       Lily   15      48     158"
            ],
            "text/html": [
              "\n",
              "  <div id=\"df-62587827-f43a-4ed5-9af6-2ac7719c177c\" class=\"colab-df-container\">\n",
              "    <div>\n",
              "<style scoped>\n",
              "    .dataframe tbody tr th:only-of-type {\n",
              "        vertical-align: middle;\n",
              "    }\n",
              "\n",
              "    .dataframe tbody tr th {\n",
              "        vertical-align: top;\n",
              "    }\n",
              "\n",
              "    .dataframe thead th {\n",
              "        text-align: right;\n",
              "    }\n",
              "</style>\n",
              "<table border=\"1\" class=\"dataframe\">\n",
              "  <thead>\n",
              "    <tr style=\"text-align: right;\">\n",
              "      <th></th>\n",
              "      <th>People</th>\n",
              "      <th>Age</th>\n",
              "      <th>Weight</th>\n",
              "      <th>Height</th>\n",
              "    </tr>\n",
              "  </thead>\n",
              "  <tbody>\n",
              "    <tr>\n",
              "      <th>0</th>\n",
              "      <td>Ann</td>\n",
              "      <td>21</td>\n",
              "      <td>55</td>\n",
              "      <td>160</td>\n",
              "    </tr>\n",
              "    <tr>\n",
              "      <th>1</th>\n",
              "      <td>Brandon</td>\n",
              "      <td>12</td>\n",
              "      <td>35</td>\n",
              "      <td>135</td>\n",
              "    </tr>\n",
              "    <tr>\n",
              "      <th>2</th>\n",
              "      <td>Chen</td>\n",
              "      <td>32</td>\n",
              "      <td>77</td>\n",
              "      <td>170</td>\n",
              "    </tr>\n",
              "    <tr>\n",
              "      <th>3</th>\n",
              "      <td>David</td>\n",
              "      <td>45</td>\n",
              "      <td>68</td>\n",
              "      <td>165</td>\n",
              "    </tr>\n",
              "    <tr>\n",
              "      <th>4</th>\n",
              "      <td>Emily</td>\n",
              "      <td>37</td>\n",
              "      <td>70</td>\n",
              "      <td>173</td>\n",
              "    </tr>\n",
              "    <tr>\n",
              "      <th>5</th>\n",
              "      <td>Farook</td>\n",
              "      <td>18</td>\n",
              "      <td>60</td>\n",
              "      <td>168</td>\n",
              "    </tr>\n",
              "    <tr>\n",
              "      <th>6</th>\n",
              "      <td>Gagan</td>\n",
              "      <td>28</td>\n",
              "      <td>72</td>\n",
              "      <td>175</td>\n",
              "    </tr>\n",
              "    <tr>\n",
              "      <th>7</th>\n",
              "      <td>Hamish</td>\n",
              "      <td>52</td>\n",
              "      <td>69</td>\n",
              "      <td>159</td>\n",
              "    </tr>\n",
              "    <tr>\n",
              "      <th>8</th>\n",
              "      <td>Imran</td>\n",
              "      <td>5</td>\n",
              "      <td>18</td>\n",
              "      <td>105</td>\n",
              "    </tr>\n",
              "    <tr>\n",
              "      <th>9</th>\n",
              "      <td>Joseph</td>\n",
              "      <td>40</td>\n",
              "      <td>65</td>\n",
              "      <td>171</td>\n",
              "    </tr>\n",
              "    <tr>\n",
              "      <th>10</th>\n",
              "      <td>Katherine</td>\n",
              "      <td>48</td>\n",
              "      <td>82</td>\n",
              "      <td>155</td>\n",
              "    </tr>\n",
              "    <tr>\n",
              "      <th>11</th>\n",
              "      <td>Lily</td>\n",
              "      <td>15</td>\n",
              "      <td>48</td>\n",
              "      <td>158</td>\n",
              "    </tr>\n",
              "  </tbody>\n",
              "</table>\n",
              "</div>\n",
              "    <div class=\"colab-df-buttons\">\n",
              "\n",
              "  <div class=\"colab-df-container\">\n",
              "    <button class=\"colab-df-convert\" onclick=\"convertToInteractive('df-62587827-f43a-4ed5-9af6-2ac7719c177c')\"\n",
              "            title=\"Convert this dataframe to an interactive table.\"\n",
              "            style=\"display:none;\">\n",
              "\n",
              "  <svg xmlns=\"http://www.w3.org/2000/svg\" height=\"24px\" viewBox=\"0 -960 960 960\">\n",
              "    <path d=\"M120-120v-720h720v720H120Zm60-500h600v-160H180v160Zm220 220h160v-160H400v160Zm0 220h160v-160H400v160ZM180-400h160v-160H180v160Zm440 0h160v-160H620v160ZM180-180h160v-160H180v160Zm440 0h160v-160H620v160Z\"/>\n",
              "  </svg>\n",
              "    </button>\n",
              "\n",
              "  <style>\n",
              "    .colab-df-container {\n",
              "      display:flex;\n",
              "      gap: 12px;\n",
              "    }\n",
              "\n",
              "    .colab-df-convert {\n",
              "      background-color: #E8F0FE;\n",
              "      border: none;\n",
              "      border-radius: 50%;\n",
              "      cursor: pointer;\n",
              "      display: none;\n",
              "      fill: #1967D2;\n",
              "      height: 32px;\n",
              "      padding: 0 0 0 0;\n",
              "      width: 32px;\n",
              "    }\n",
              "\n",
              "    .colab-df-convert:hover {\n",
              "      background-color: #E2EBFA;\n",
              "      box-shadow: 0px 1px 2px rgba(60, 64, 67, 0.3), 0px 1px 3px 1px rgba(60, 64, 67, 0.15);\n",
              "      fill: #174EA6;\n",
              "    }\n",
              "\n",
              "    .colab-df-buttons div {\n",
              "      margin-bottom: 4px;\n",
              "    }\n",
              "\n",
              "    [theme=dark] .colab-df-convert {\n",
              "      background-color: #3B4455;\n",
              "      fill: #D2E3FC;\n",
              "    }\n",
              "\n",
              "    [theme=dark] .colab-df-convert:hover {\n",
              "      background-color: #434B5C;\n",
              "      box-shadow: 0px 1px 3px 1px rgba(0, 0, 0, 0.15);\n",
              "      filter: drop-shadow(0px 1px 2px rgba(0, 0, 0, 0.3));\n",
              "      fill: #FFFFFF;\n",
              "    }\n",
              "  </style>\n",
              "\n",
              "    <script>\n",
              "      const buttonEl =\n",
              "        document.querySelector('#df-62587827-f43a-4ed5-9af6-2ac7719c177c button.colab-df-convert');\n",
              "      buttonEl.style.display =\n",
              "        google.colab.kernel.accessAllowed ? 'block' : 'none';\n",
              "\n",
              "      async function convertToInteractive(key) {\n",
              "        const element = document.querySelector('#df-62587827-f43a-4ed5-9af6-2ac7719c177c');\n",
              "        const dataTable =\n",
              "          await google.colab.kernel.invokeFunction('convertToInteractive',\n",
              "                                                    [key], {});\n",
              "        if (!dataTable) return;\n",
              "\n",
              "        const docLinkHtml = 'Like what you see? Visit the ' +\n",
              "          '<a target=\"_blank\" href=https://colab.research.google.com/notebooks/data_table.ipynb>data table notebook</a>'\n",
              "          + ' to learn more about interactive tables.';\n",
              "        element.innerHTML = '';\n",
              "        dataTable['output_type'] = 'display_data';\n",
              "        await google.colab.output.renderOutput(dataTable, element);\n",
              "        const docLink = document.createElement('div');\n",
              "        docLink.innerHTML = docLinkHtml;\n",
              "        element.appendChild(docLink);\n",
              "      }\n",
              "    </script>\n",
              "  </div>\n",
              "\n",
              "\n",
              "<div id=\"df-acce1179-5659-4c43-ba4e-9fa6db4aacf1\">\n",
              "  <button class=\"colab-df-quickchart\" onclick=\"quickchart('df-acce1179-5659-4c43-ba4e-9fa6db4aacf1')\"\n",
              "            title=\"Suggest charts\"\n",
              "            style=\"display:none;\">\n",
              "\n",
              "<svg xmlns=\"http://www.w3.org/2000/svg\" height=\"24px\"viewBox=\"0 0 24 24\"\n",
              "     width=\"24px\">\n",
              "    <g>\n",
              "        <path d=\"M19 3H5c-1.1 0-2 .9-2 2v14c0 1.1.9 2 2 2h14c1.1 0 2-.9 2-2V5c0-1.1-.9-2-2-2zM9 17H7v-7h2v7zm4 0h-2V7h2v10zm4 0h-2v-4h2v4z\"/>\n",
              "    </g>\n",
              "</svg>\n",
              "  </button>\n",
              "\n",
              "<style>\n",
              "  .colab-df-quickchart {\n",
              "      --bg-color: #E8F0FE;\n",
              "      --fill-color: #1967D2;\n",
              "      --hover-bg-color: #E2EBFA;\n",
              "      --hover-fill-color: #174EA6;\n",
              "      --disabled-fill-color: #AAA;\n",
              "      --disabled-bg-color: #DDD;\n",
              "  }\n",
              "\n",
              "  [theme=dark] .colab-df-quickchart {\n",
              "      --bg-color: #3B4455;\n",
              "      --fill-color: #D2E3FC;\n",
              "      --hover-bg-color: #434B5C;\n",
              "      --hover-fill-color: #FFFFFF;\n",
              "      --disabled-bg-color: #3B4455;\n",
              "      --disabled-fill-color: #666;\n",
              "  }\n",
              "\n",
              "  .colab-df-quickchart {\n",
              "    background-color: var(--bg-color);\n",
              "    border: none;\n",
              "    border-radius: 50%;\n",
              "    cursor: pointer;\n",
              "    display: none;\n",
              "    fill: var(--fill-color);\n",
              "    height: 32px;\n",
              "    padding: 0;\n",
              "    width: 32px;\n",
              "  }\n",
              "\n",
              "  .colab-df-quickchart:hover {\n",
              "    background-color: var(--hover-bg-color);\n",
              "    box-shadow: 0 1px 2px rgba(60, 64, 67, 0.3), 0 1px 3px 1px rgba(60, 64, 67, 0.15);\n",
              "    fill: var(--button-hover-fill-color);\n",
              "  }\n",
              "\n",
              "  .colab-df-quickchart-complete:disabled,\n",
              "  .colab-df-quickchart-complete:disabled:hover {\n",
              "    background-color: var(--disabled-bg-color);\n",
              "    fill: var(--disabled-fill-color);\n",
              "    box-shadow: none;\n",
              "  }\n",
              "\n",
              "  .colab-df-spinner {\n",
              "    border: 2px solid var(--fill-color);\n",
              "    border-color: transparent;\n",
              "    border-bottom-color: var(--fill-color);\n",
              "    animation:\n",
              "      spin 1s steps(1) infinite;\n",
              "  }\n",
              "\n",
              "  @keyframes spin {\n",
              "    0% {\n",
              "      border-color: transparent;\n",
              "      border-bottom-color: var(--fill-color);\n",
              "      border-left-color: var(--fill-color);\n",
              "    }\n",
              "    20% {\n",
              "      border-color: transparent;\n",
              "      border-left-color: var(--fill-color);\n",
              "      border-top-color: var(--fill-color);\n",
              "    }\n",
              "    30% {\n",
              "      border-color: transparent;\n",
              "      border-left-color: var(--fill-color);\n",
              "      border-top-color: var(--fill-color);\n",
              "      border-right-color: var(--fill-color);\n",
              "    }\n",
              "    40% {\n",
              "      border-color: transparent;\n",
              "      border-right-color: var(--fill-color);\n",
              "      border-top-color: var(--fill-color);\n",
              "    }\n",
              "    60% {\n",
              "      border-color: transparent;\n",
              "      border-right-color: var(--fill-color);\n",
              "    }\n",
              "    80% {\n",
              "      border-color: transparent;\n",
              "      border-right-color: var(--fill-color);\n",
              "      border-bottom-color: var(--fill-color);\n",
              "    }\n",
              "    90% {\n",
              "      border-color: transparent;\n",
              "      border-bottom-color: var(--fill-color);\n",
              "    }\n",
              "  }\n",
              "</style>\n",
              "\n",
              "  <script>\n",
              "    async function quickchart(key) {\n",
              "      const quickchartButtonEl =\n",
              "        document.querySelector('#' + key + ' button');\n",
              "      quickchartButtonEl.disabled = true;  // To prevent multiple clicks.\n",
              "      quickchartButtonEl.classList.add('colab-df-spinner');\n",
              "      try {\n",
              "        const charts = await google.colab.kernel.invokeFunction(\n",
              "            'suggestCharts', [key], {});\n",
              "      } catch (error) {\n",
              "        console.error('Error during call to suggestCharts:', error);\n",
              "      }\n",
              "      quickchartButtonEl.classList.remove('colab-df-spinner');\n",
              "      quickchartButtonEl.classList.add('colab-df-quickchart-complete');\n",
              "    }\n",
              "    (() => {\n",
              "      let quickchartButtonEl =\n",
              "        document.querySelector('#df-acce1179-5659-4c43-ba4e-9fa6db4aacf1 button');\n",
              "      quickchartButtonEl.style.display =\n",
              "        google.colab.kernel.accessAllowed ? 'block' : 'none';\n",
              "    })();\n",
              "  </script>\n",
              "</div>\n",
              "\n",
              "  <div id=\"id_c830701e-7f3e-4420-aa69-c63e02771bc0\">\n",
              "    <style>\n",
              "      .colab-df-generate {\n",
              "        background-color: #E8F0FE;\n",
              "        border: none;\n",
              "        border-radius: 50%;\n",
              "        cursor: pointer;\n",
              "        display: none;\n",
              "        fill: #1967D2;\n",
              "        height: 32px;\n",
              "        padding: 0 0 0 0;\n",
              "        width: 32px;\n",
              "      }\n",
              "\n",
              "      .colab-df-generate:hover {\n",
              "        background-color: #E2EBFA;\n",
              "        box-shadow: 0px 1px 2px rgba(60, 64, 67, 0.3), 0px 1px 3px 1px rgba(60, 64, 67, 0.15);\n",
              "        fill: #174EA6;\n",
              "      }\n",
              "\n",
              "      [theme=dark] .colab-df-generate {\n",
              "        background-color: #3B4455;\n",
              "        fill: #D2E3FC;\n",
              "      }\n",
              "\n",
              "      [theme=dark] .colab-df-generate:hover {\n",
              "        background-color: #434B5C;\n",
              "        box-shadow: 0px 1px 3px 1px rgba(0, 0, 0, 0.15);\n",
              "        filter: drop-shadow(0px 1px 2px rgba(0, 0, 0, 0.3));\n",
              "        fill: #FFFFFF;\n",
              "      }\n",
              "    </style>\n",
              "    <button class=\"colab-df-generate\" onclick=\"generateWithVariable('people_df')\"\n",
              "            title=\"Generate code using this dataframe.\"\n",
              "            style=\"display:none;\">\n",
              "\n",
              "  <svg xmlns=\"http://www.w3.org/2000/svg\" height=\"24px\"viewBox=\"0 0 24 24\"\n",
              "       width=\"24px\">\n",
              "    <path d=\"M7,19H8.4L18.45,9,17,7.55,7,17.6ZM5,21V16.75L18.45,3.32a2,2,0,0,1,2.83,0l1.4,1.43a1.91,1.91,0,0,1,.58,1.4,1.91,1.91,0,0,1-.58,1.4L9.25,21ZM18.45,9,17,7.55Zm-12,3A5.31,5.31,0,0,0,4.9,8.1,5.31,5.31,0,0,0,1,6.5,5.31,5.31,0,0,0,4.9,4.9,5.31,5.31,0,0,0,6.5,1,5.31,5.31,0,0,0,8.1,4.9,5.31,5.31,0,0,0,12,6.5,5.46,5.46,0,0,0,6.5,12Z\"/>\n",
              "  </svg>\n",
              "    </button>\n",
              "    <script>\n",
              "      (() => {\n",
              "      const buttonEl =\n",
              "        document.querySelector('#id_c830701e-7f3e-4420-aa69-c63e02771bc0 button.colab-df-generate');\n",
              "      buttonEl.style.display =\n",
              "        google.colab.kernel.accessAllowed ? 'block' : 'none';\n",
              "\n",
              "      buttonEl.onclick = () => {\n",
              "        google.colab.notebook.generateWithVariable('people_df');\n",
              "      }\n",
              "      })();\n",
              "    </script>\n",
              "  </div>\n",
              "\n",
              "    </div>\n",
              "  </div>\n"
            ],
            "application/vnd.google.colaboratory.intrinsic+json": {
              "type": "dataframe",
              "variable_name": "people_df",
              "summary": "{\n  \"name\": \"people_df\",\n  \"rows\": 12,\n  \"fields\": [\n    {\n      \"column\": \"People\",\n      \"properties\": {\n        \"dtype\": \"string\",\n        \"num_unique_values\": 12,\n        \"samples\": [\n          \"Katherine\",\n          \"Joseph\",\n          \"Ann\"\n        ],\n        \"semantic_type\": \"\",\n        \"description\": \"\"\n      }\n    },\n    {\n      \"column\": \"Age\",\n      \"properties\": {\n        \"dtype\": \"number\",\n        \"std\": 15,\n        \"min\": 5,\n        \"max\": 52,\n        \"num_unique_values\": 12,\n        \"samples\": [\n          48,\n          40,\n          21\n        ],\n        \"semantic_type\": \"\",\n        \"description\": \"\"\n      }\n    },\n    {\n      \"column\": \"Weight\",\n      \"properties\": {\n        \"dtype\": \"number\",\n        \"std\": 18,\n        \"min\": 18,\n        \"max\": 82,\n        \"num_unique_values\": 12,\n        \"samples\": [\n          82,\n          65,\n          55\n        ],\n        \"semantic_type\": \"\",\n        \"description\": \"\"\n      }\n    },\n    {\n      \"column\": \"Height\",\n      \"properties\": {\n        \"dtype\": \"number\",\n        \"std\": 19,\n        \"min\": 105,\n        \"max\": 175,\n        \"num_unique_values\": 12,\n        \"samples\": [\n          155,\n          171,\n          160\n        ],\n        \"semantic_type\": \"\",\n        \"description\": \"\"\n      }\n    }\n  ]\n}"
            }
          },
          "metadata": {},
          "execution_count": 50
        }
      ]
    },
    {
      "cell_type": "code",
      "source": [
        "print(people_df['Age'].mean())"
      ],
      "metadata": {
        "colab": {
          "base_uri": "https://localhost:8080/"
        },
        "id": "EDivpbXus2fD",
        "outputId": "b1b8a76a-8f56-4d7e-d792-4ab3db562e44"
      },
      "execution_count": 51,
      "outputs": [
        {
          "output_type": "stream",
          "name": "stdout",
          "text": [
            "29.416666666666668\n"
          ]
        }
      ]
    },
    {
      "cell_type": "code",
      "source": [
        "print(people_df['Height'].max())"
      ],
      "metadata": {
        "colab": {
          "base_uri": "https://localhost:8080/"
        },
        "id": "KZtkhcXws35u",
        "outputId": "340ec7ff-7c28-4c9b-9c2b-c3425fa4b0e3"
      },
      "execution_count": 52,
      "outputs": [
        {
          "output_type": "stream",
          "name": "stdout",
          "text": [
            "175\n"
          ]
        }
      ]
    },
    {
      "cell_type": "code",
      "source": [
        "print(people_df['Weight'].std())"
      ],
      "metadata": {
        "colab": {
          "base_uri": "https://localhost:8080/"
        },
        "id": "lpyD_6PDs-3q",
        "outputId": "fa1ae5e4-2e29-4088-bf73-638f5d61e259"
      },
      "execution_count": 53,
      "outputs": [
        {
          "output_type": "stream",
          "name": "stdout",
          "text": [
            "18.45120510148239\n"
          ]
        }
      ]
    },
    {
      "cell_type": "code",
      "source": [
        "np.percentile(people_df['Age'],25)"
      ],
      "metadata": {
        "colab": {
          "base_uri": "https://localhost:8080/"
        },
        "id": "dLyYJ68gtBva",
        "outputId": "f2e027b0-19f0-4001-cfed-49d1de1ff870"
      },
      "execution_count": 54,
      "outputs": [
        {
          "output_type": "execute_result",
          "data": {
            "text/plain": [
              "17.25"
            ]
          },
          "metadata": {},
          "execution_count": 54
        }
      ]
    },
    {
      "cell_type": "code",
      "source": [
        "pcnt_75 = np.percentile(people_df['Age'],75)\n",
        "pcnt_25 = np.percentile(people_df['Age'],25)\n",
        "print(\"Inter-quartile range: \",pcnt_75-pcnt_25)"
      ],
      "metadata": {
        "colab": {
          "base_uri": "https://localhost:8080/"
        },
        "id": "y4ECxMnStIBI",
        "outputId": "b530bc7a-2fca-42e5-a693-11dc9bbf7c39"
      },
      "execution_count": 55,
      "outputs": [
        {
          "output_type": "stream",
          "name": "stdout",
          "text": [
            "Inter-quartile range:  24.0\n"
          ]
        }
      ]
    },
    {
      "cell_type": "code",
      "source": [
        "print(people_df.describe())"
      ],
      "metadata": {
        "colab": {
          "base_uri": "https://localhost:8080/"
        },
        "id": "152QpgZ9tLNQ",
        "outputId": "d5a8f173-2912-41bb-f0df-66b7610c0910"
      },
      "execution_count": 56,
      "outputs": [
        {
          "output_type": "stream",
          "name": "stdout",
          "text": [
            "             Age     Weight      Height\n",
            "count  12.000000  12.000000   12.000000\n",
            "mean   29.416667  59.916667  157.833333\n",
            "std    15.329463  18.451205   19.834925\n",
            "min     5.000000  18.000000  105.000000\n",
            "25%    17.250000  53.250000  157.250000\n",
            "50%    30.000000  66.500000  162.500000\n",
            "75%    41.250000  70.500000  170.250000\n",
            "max    52.000000  82.000000  175.000000\n"
          ]
        }
      ]
    },
    {
      "cell_type": "code",
      "source": [
        "people_df['Weight'].hist()\n",
        "plt.show()"
      ],
      "metadata": {
        "colab": {
          "base_uri": "https://localhost:8080/",
          "height": 430
        },
        "id": "sBgJsElUtMnv",
        "outputId": "67f60126-1479-46d1-b81a-33b12de8a67b"
      },
      "execution_count": 57,
      "outputs": [
        {
          "output_type": "display_data",
          "data": {
            "text/plain": [
              "<Figure size 640x480 with 1 Axes>"
            ],
            "image/png": "[encoded data removed]"
          },
          "metadata": {}
        }
      ]
    },
    {
      "cell_type": "code",
      "source": [
        "people_df.plot.scatter('Weight','Height',s=150,c='orange',edgecolor='k')\n",
        "plt.grid(True)\n",
        "plt.title(\"Weight vs. Height scatter plot\",fontsize=18)\n",
        "plt.xlabel(\"Weight (in kg)\",fontsize=15)\n",
        "plt.ylabel(\"Height (in cm)\",fontsize=15)\n",
        "plt.show()"
      ],
      "metadata": {
        "colab": {
          "base_uri": "https://localhost:8080/",
          "height": 483
        },
        "id": "HBEHRDnbtTI6",
        "outputId": "aad81f16-ec01-4f47-9242-7ad0978bdb8f"
      },
      "execution_count": 58,
      "outputs": [
        {
          "output_type": "display_data",
          "data": {
            "text/plain": [
              "<Figure size 640x480 with 1 Axes>"
            ],
            "image/png": "[encoded data removed]"
          },
          "metadata": {}
        }
      ]
    },
    {
      "cell_type": "code",
      "source": [],
      "metadata": {
        "id": "awAipG590Izy"
      },
      "execution_count": null,
      "outputs": []
    },
    {
      "cell_type": "code",
      "source": [],
      "metadata": {
        "id": "rSiaqgzK0JVC"
      },
      "execution_count": null,
      "outputs": []
    },
    {
      "cell_type": "code",
      "source": [
        "import requests"
      ],
      "metadata": {
        "id": "xhXFbu_a0JaG"
      },
      "execution_count": 59,
      "outputs": []
    },
    {
      "cell_type": "code",
      "source": [
        "# First assign the URL of Wikipedia home page to a string\n",
        "wiki_home = \"https://en.wikipedia.org/wiki/Main_Page\""
      ],
      "metadata": {
        "id": "9KdZKuCY0QKw"
      },
      "execution_count": 61,
      "outputs": []
    },
    {
      "cell_type": "code",
      "source": [
        "# Use the 'get' method from requests library to get a response\n",
        "response = requests.get(wiki_home)"
      ],
      "metadata": {
        "id": "xDgp8S6p0VDZ"
      },
      "execution_count": 62,
      "outputs": []
    },
    {
      "cell_type": "code",
      "source": [
        "# What is this 'response' object anyway\n",
        "type(response)"
      ],
      "metadata": {
        "colab": {
          "base_uri": "https://localhost:8080/",
          "height": 140
        },
        "id": "pFOVD58d0Xz_",
        "outputId": "de3bcd16-af7a-4c2a-e5ee-16b5cb0f8583"
      },
      "execution_count": 63,
      "outputs": [
        {
          "output_type": "execute_result",
          "data": {
            "text/plain": [
              "requests.models.Response"
            ],
            "text/html": [
              "<div style=\"max-width:800px; border: 1px solid var(--colab-border-color);\"><style>\n",
              "      pre.function-repr-contents {\n",
              "        overflow-x: auto;\n",
              "        padding: 8px 12px;\n",
              "        max-height: 500px;\n",
              "      }\n",
              "\n",
              "      pre.function-repr-contents.function-repr-contents-collapsed {\n",
              "        cursor: pointer;\n",
              "        max-height: 100px;\n",
              "      }\n",
              "    </style>\n",
              "    <pre style=\"white-space: initial; background:\n",
              "         var(--colab-secondary-surface-color); padding: 8px 12px;\n",
              "         border-bottom: 1px solid var(--colab-border-color);\"><b>requests.models.Response</b><br/>def __init__()</pre><pre class=\"function-repr-contents function-repr-contents-collapsed\" style=\"\"><a class=\"filepath\" style=\"display:none\" href=\"#\">/usr/local/lib/python3.10/dist-packages/requests/models.py</a>The :class:`Response &lt;Response&gt;` object, which contains a\n",
              "server&#x27;s response to an HTTP request.</pre>\n",
              "      <script>\n",
              "      if (google.colab.kernel.accessAllowed && google.colab.files && google.colab.files.view) {\n",
              "        for (const element of document.querySelectorAll('.filepath')) {\n",
              "          element.style.display = 'block'\n",
              "          element.onclick = (event) => {\n",
              "            event.preventDefault();\n",
              "            event.stopPropagation();\n",
              "            google.colab.files.view(element.textContent, 640);\n",
              "          };\n",
              "        }\n",
              "      }\n",
              "      for (const element of document.querySelectorAll('.function-repr-contents')) {\n",
              "        element.onclick = (event) => {\n",
              "          event.preventDefault();\n",
              "          event.stopPropagation();\n",
              "          element.classList.toggle('function-repr-contents-collapsed');\n",
              "        };\n",
              "      }\n",
              "      </script>\n",
              "      </div>"
            ]
          },
          "metadata": {},
          "execution_count": 63
        }
      ]
    },
    {
      "cell_type": "code",
      "source": [
        "def status_check(r):\n",
        "    if r.status_code==200:\n",
        "        print(\"Success!\")\n",
        "        return 1\n",
        "    else:\n",
        "        print(\"Failed!\")\n",
        "        return -1"
      ],
      "metadata": {
        "id": "0rrYwFoF0eLR"
      },
      "execution_count": 65,
      "outputs": []
    },
    {
      "cell_type": "code",
      "source": [
        "status_check(response)"
      ],
      "metadata": {
        "colab": {
          "base_uri": "https://localhost:8080/"
        },
        "id": "KC7LwcIN0t6f",
        "outputId": "5d24799f-18c4-4d84-c2e5-cb1dcaf7e1a4"
      },
      "execution_count": 66,
      "outputs": [
        {
          "output_type": "stream",
          "name": "stdout",
          "text": [
            "Success!\n"
          ]
        },
        {
          "output_type": "execute_result",
          "data": {
            "text/plain": [
              "1"
            ]
          },
          "metadata": {},
          "execution_count": 66
        }
      ]
    },
    {
      "cell_type": "code",
      "source": [
        "def encoding_check(r):\n",
        "    return (r.encoding)"
      ],
      "metadata": {
        "id": "YDeuK8UA0xua"
      },
      "execution_count": 67,
      "outputs": []
    },
    {
      "cell_type": "code",
      "source": [
        "encoding_check(response)"
      ],
      "metadata": {
        "colab": {
          "base_uri": "https://localhost:8080/",
          "height": 35
        },
        "id": "5rtt1uxP0y2O",
        "outputId": "efec1478-98f0-4a4b-a2a6-8c75e0422bc4"
      },
      "execution_count": 68,
      "outputs": [
        {
          "output_type": "execute_result",
          "data": {
            "text/plain": [
              "'UTF-8'"
            ],
            "application/vnd.google.colaboratory.intrinsic+json": {
              "type": "string"
            }
          },
          "metadata": {},
          "execution_count": 68
        }
      ]
    },
    {
      "cell_type": "code",
      "source": [
        "def decode_content(r,encoding):\n",
        "    return (r.content.decode(encoding))"
      ],
      "metadata": {
        "id": "GJGTMVAm05_I"
      },
      "execution_count": 69,
      "outputs": []
    }
  ]
}